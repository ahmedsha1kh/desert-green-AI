{
 "cells": [
  {
   "cell_type": "code",
   "execution_count": 1,
   "metadata": {},
   "outputs": [],
   "source": [
    "import xarray as xr\n",
    "import pandas as pd\n",
    "from prophet import Prophet\n",
    "import cftime\n",
    "import matplotlib.pyplot as plt # for plotting\n",
    "import seaborn as sns # for plotting\n",
    "\n",
    "import numpy as np\n",
    "from sklearn.preprocessing import StandardScaler, RobustScaler\n"
   ]
  },
  {
   "cell_type": "markdown",
   "metadata": {},
   "source": [
    "# Extracting data "
   ]
  },
  {
   "cell_type": "code",
   "execution_count": 2,
   "metadata": {},
   "outputs": [
    {
     "name": "stdout",
     "output_type": "stream",
     "text": [
      "<xarray.Dataset> Size: 17GB\n",
      "Dimensions:     (valid_time: 365, latitude: 721, longitude: 1440)\n",
      "Coordinates:\n",
      "  * valid_time  (valid_time) datetime64[ns] 3kB 2002-01-01T12:00:00 ... 2002-...\n",
      "  * latitude    (latitude) float64 6kB -90.0 -89.75 -89.5 ... 89.5 89.75 90.0\n",
      "  * longitude   (longitude) float64 12kB 0.0 0.25 0.5 0.75 ... 359.2 359.5 359.8\n",
      "    number      int64 8B 0\n",
      "    expver      (valid_time) <U4 6kB '0001' '0001' '0001' ... '0001' '0001'\n",
      "Data variables:\n",
      "    mwd         (valid_time, latitude, longitude) float32 2GB nan nan ... nan\n",
      "    mwp         (valid_time, latitude, longitude) float32 2GB nan nan ... nan\n",
      "    swh         (valid_time, latitude, longitude) float32 2GB nan nan ... nan\n",
      "    u10         (valid_time, latitude, longitude) float32 2GB ...\n",
      "    v10         (valid_time, latitude, longitude) float32 2GB ...\n",
      "    d2m         (valid_time, latitude, longitude) float32 2GB ...\n",
      "    t2m         (valid_time, latitude, longitude) float32 2GB ...\n",
      "    msl         (valid_time, latitude, longitude) float32 2GB ...\n",
      "    sst         (valid_time, latitude, longitude) float32 2GB ...\n",
      "    sp          (valid_time, latitude, longitude) float32 2GB ...\n",
      "    tp          (valid_time, latitude, longitude) float32 2GB ...\n",
      "Attributes:\n",
      "    GRIB_centre:             ecmf\n",
      "    GRIB_centreDescription:  European Centre for Medium-Range Weather Forecasts\n",
      "    GRIB_subCentre:          0\n",
      "    Conventions:             CF-1.7\n",
      "    institution:             European Centre for Medium-Range Weather Forecasts\n",
      "    history:                 2025-07-05T14:27 GRIB to CDM+CF via cfgrib-0.9.1...\n"
     ]
    }
   ],
   "source": [
    "file_paths = ['CDS_Data/data_stream-wave_stepType-instant.nc', 'CDS_Data/data_stream-oper_stepType-instant.nc', \n",
    "           'CDS_Data/data_stream-oper_stepType-accum.nc']\n",
    "\n",
    "# Create an empty list to store the Datasets\n",
    "datasets = []\n",
    "\n",
    "# Open each NetCDF file and append its Dataset to the list\n",
    "for fp in file_paths:\n",
    "    ds = xr.open_dataset(fp)\n",
    "    datasets.append(ds)\n",
    "\n",
    "# Merge all Datasets in the list into a single Dataset\n",
    "combined_dataset = xr.merge(datasets)\n",
    "\n",
    "# Inspect your dataset\n",
    "print(combined_dataset)"
   ]
  },
  {
   "cell_type": "code",
   "execution_count": 3,
   "metadata": {},
   "outputs": [
    {
     "name": "stdout",
     "output_type": "stream",
     "text": [
      "--- Checking Latitude Coordinates ---\n",
      "<xarray.DataArray 'latitude' (latitude: 721)> Size: 6kB\n",
      "array([-90.  , -89.75, -89.5 , ...,  89.5 ,  89.75,  90.  ])\n",
      "Coordinates:\n",
      "  * latitude  (latitude) float64 6kB -90.0 -89.75 -89.5 ... 89.5 89.75 90.0\n",
      "    number    int64 8B 0\n",
      "Attributes:\n",
      "    units:             degrees_north\n",
      "    standard_name:     latitude\n",
      "    long_name:         latitude\n",
      "    stored_direction:  decreasing\n",
      "Minimum Latitude: -90.0\n",
      "Maximum Latitude: 90.0\n",
      "\n",
      "--- Checking Longitude Coordinates ---\n",
      "<xarray.DataArray 'longitude' (longitude: 1440)> Size: 12kB\n",
      "array([0.0000e+00, 2.5000e-01, 5.0000e-01, ..., 3.5925e+02, 3.5950e+02,\n",
      "       3.5975e+02])\n",
      "Coordinates:\n",
      "  * longitude  (longitude) float64 12kB 0.0 0.25 0.5 0.75 ... 359.2 359.5 359.8\n",
      "    number     int64 8B 0\n",
      "Attributes:\n",
      "    units:          degrees_east\n",
      "    standard_name:  longitude\n",
      "    long_name:      longitude\n",
      "Minimum Longitude: 0.0\n",
      "Maximum Longitude: 359.75\n",
      "\n",
      "--- Full Dataset Info ---\n",
      "<xarray.Dataset> Size: 17GB\n",
      "Dimensions:     (valid_time: 365, latitude: 721, longitude: 1440)\n",
      "Coordinates:\n",
      "  * valid_time  (valid_time) datetime64[ns] 3kB 2002-01-01T12:00:00 ... 2002-...\n",
      "  * latitude    (latitude) float64 6kB -90.0 -89.75 -89.5 ... 89.5 89.75 90.0\n",
      "  * longitude   (longitude) float64 12kB 0.0 0.25 0.5 0.75 ... 359.2 359.5 359.8\n",
      "    number      int64 8B 0\n",
      "    expver      (valid_time) <U4 6kB '0001' '0001' '0001' ... '0001' '0001'\n",
      "Data variables:\n",
      "    mwd         (valid_time, latitude, longitude) float32 2GB nan nan ... nan\n",
      "    mwp         (valid_time, latitude, longitude) float32 2GB nan nan ... nan\n",
      "    swh         (valid_time, latitude, longitude) float32 2GB nan nan ... nan\n",
      "    u10         (valid_time, latitude, longitude) float32 2GB ...\n",
      "    v10         (valid_time, latitude, longitude) float32 2GB ...\n",
      "    d2m         (valid_time, latitude, longitude) float32 2GB ...\n",
      "    t2m         (valid_time, latitude, longitude) float32 2GB ...\n",
      "    msl         (valid_time, latitude, longitude) float32 2GB ...\n",
      "    sst         (valid_time, latitude, longitude) float32 2GB ...\n",
      "    sp          (valid_time, latitude, longitude) float32 2GB ...\n",
      "    tp          (valid_time, latitude, longitude) float32 2GB ...\n",
      "Attributes:\n",
      "    GRIB_centre:             ecmf\n",
      "    GRIB_centreDescription:  European Centre for Medium-Range Weather Forecasts\n",
      "    GRIB_subCentre:          0\n",
      "    Conventions:             CF-1.7\n",
      "    institution:             European Centre for Medium-Range Weather Forecasts\n",
      "    history:                 2025-07-05T14:27 GRIB to CDM+CF via cfgrib-0.9.1...\n"
     ]
    }
   ],
   "source": [
    "print(\"--- Checking Latitude Coordinates ---\")\n",
    "print(combined_dataset['latitude'])\n",
    "print(f\"Minimum Latitude: {combined_dataset['latitude'].min().item()}\")\n",
    "print(f\"Maximum Latitude: {combined_dataset['latitude'].max().item()}\")\n",
    "\n",
    "print(\"\\n--- Checking Longitude Coordinates ---\")\n",
    "print(combined_dataset['longitude'])\n",
    "print(f\"Minimum Longitude: {combined_dataset['longitude'].min().item()}\")\n",
    "print(f\"Maximum Longitude: {combined_dataset['longitude'].max().item()}\")\n",
    "\n",
    "print(\"\\n--- Full Dataset Info ---\")\n",
    "print(combined_dataset) # Look closely at the dimensions here too.\n"
   ]
  },
  {
   "cell_type": "code",
   "execution_count": 4,
   "metadata": {},
   "outputs": [
    {
     "name": "stdout",
     "output_type": "stream",
     "text": [
      "<xarray.Dataset> Size: 40MB\n",
      "Dimensions:     (valid_time: 365, latitude: 41, longitude: 61)\n",
      "Coordinates:\n",
      "  * valid_time  (valid_time) datetime64[ns] 3kB 2002-01-01T12:00:00 ... 2002-...\n",
      "  * latitude    (latitude) float64 328B 45.0 45.25 45.5 ... 54.5 54.75 55.0\n",
      "  * longitude   (longitude) float64 488B 5.0 5.25 5.5 5.75 ... 19.5 19.75 20.0\n",
      "    number      int64 8B 0\n",
      "    expver      (valid_time) <U4 6kB '0001' '0001' '0001' ... '0001' '0001'\n",
      "Data variables:\n",
      "    mwd         (valid_time, latitude, longitude) float32 4MB nan nan ... 344.9\n",
      "    mwp         (valid_time, latitude, longitude) float32 4MB nan nan ... 6.452\n",
      "    swh         (valid_time, latitude, longitude) float32 4MB nan nan ... 2.092\n",
      "    u10         (valid_time, latitude, longitude) float32 4MB ...\n",
      "    v10         (valid_time, latitude, longitude) float32 4MB ...\n",
      "    d2m         (valid_time, latitude, longitude) float32 4MB ...\n",
      "    t2m         (valid_time, latitude, longitude) float32 4MB ...\n",
      "    msl         (valid_time, latitude, longitude) float32 4MB ...\n",
      "    sst         (valid_time, latitude, longitude) float32 4MB ...\n",
      "    sp          (valid_time, latitude, longitude) float32 4MB ...\n",
      "    tp          (valid_time, latitude, longitude) float32 4MB ...\n",
      "Attributes:\n",
      "    GRIB_centre:             ecmf\n",
      "    GRIB_centreDescription:  European Centre for Medium-Range Weather Forecasts\n",
      "    GRIB_subCentre:          0\n",
      "    Conventions:             CF-1.7\n",
      "    institution:             European Centre for Medium-Range Weather Forecasts\n",
      "    history:                 2025-07-05T14:27 GRIB to CDM+CF via cfgrib-0.9.1...\n"
     ]
    }
   ],
   "source": [
    "north_bound_lat_chch = 55.0  # Remember: -43.0 is \"more north\" than -44.0\n",
    "south_bound_lat_chch = 45.0\n",
    "west_bound_lon_chch = 5.0\n",
    "east_bound_lon_chch = 20.0\n",
    "\n",
    "# 1. Select the data for the specified Christchurch region\n",
    "# IMPORTANT: For 'latitude' which is 'decreasing' (90 to -90), the slice order is (higher_value, lower_value)\n",
    "ds = combined_dataset.sel(\n",
    "    latitude=slice(south_bound_lat_chch, north_bound_lat_chch), # Correct order for decreasing latitude\n",
    "    longitude=slice(west_bound_lon_chch, east_bound_lon_chch)   # Standard order for increasing longitude (0 to 359.5)\n",
    ")\n",
    "\n",
    "print(ds)"
   ]
  },
  {
   "cell_type": "code",
   "execution_count": 5,
   "metadata": {},
   "outputs": [
    {
     "name": "stdout",
     "output_type": "stream",
     "text": [
      "                                        number expver         mwd       mwp  \\\n",
      "valid_time          latitude longitude                                        \n",
      "2002-01-01 12:00:00 45.0     5.00            0   0001         NaN       NaN   \n",
      "                             5.25            0   0001         NaN       NaN   \n",
      "                             5.50            0   0001         NaN       NaN   \n",
      "                             5.75            0   0001         NaN       NaN   \n",
      "                             6.00            0   0001         NaN       NaN   \n",
      "...                                        ...    ...         ...       ...   \n",
      "2002-12-31 12:00:00 55.0     19.00           0   0001  351.784027  6.344384   \n",
      "                             19.25           0   0001         NaN       NaN   \n",
      "                             19.50           0   0001  347.205902  6.363671   \n",
      "                             19.75           0   0001         NaN       NaN   \n",
      "                             20.00           0   0001  344.869965  6.451562   \n",
      "\n",
      "                                             swh       u10       v10  \\\n",
      "valid_time          latitude longitude                                 \n",
      "2002-01-01 12:00:00 45.0     5.00            NaN -0.804764 -1.102310   \n",
      "                             5.25            NaN -0.738358 -0.229263   \n",
      "                             5.50            NaN -0.763748  0.397690   \n",
      "                             5.75            NaN -1.006912  0.909409   \n",
      "                             6.00            NaN -1.389725  0.598862   \n",
      "...                                          ...       ...       ...   \n",
      "2002-12-31 12:00:00 55.0     19.00      2.196946  5.939423 -8.245361   \n",
      "                             19.25           NaN  6.187469 -8.601807   \n",
      "                             19.50      2.306565  6.205048 -8.883057   \n",
      "                             19.75           NaN  5.865204 -8.530518   \n",
      "                             20.00      2.091721  4.832001 -6.674072   \n",
      "\n",
      "                                               d2m         t2m          msl  \\\n",
      "valid_time          latitude longitude                                        \n",
      "2002-01-01 12:00:00 45.0     5.00       267.758881  274.061951  103693.1250   \n",
      "                             5.25       266.268646  273.729919  103658.1250   \n",
      "                             5.50       265.891693  271.888123  103644.6250   \n",
      "                             5.75       261.844818  267.663513  103620.3750   \n",
      "                             6.00       256.305756  261.890076  103619.1250   \n",
      "...                                            ...         ...          ...   \n",
      "2002-12-31 12:00:00 55.0     19.00      265.124939  271.457428  101757.9375   \n",
      "                             19.25      265.246033  271.527740  101729.1875   \n",
      "                             19.50      265.076111  271.633209  101700.4375   \n",
      "                             19.75      264.966736  271.465240  101673.6875   \n",
      "                             20.00      265.292908  270.521881  101650.9375   \n",
      "\n",
      "                                               sst             sp        tp  \n",
      "valid_time          latitude longitude                                       \n",
      "2002-01-01 12:00:00 45.0     5.00              NaN   99381.828125  0.000000  \n",
      "                             5.25              NaN   96759.828125  0.000000  \n",
      "                             5.50              NaN   93320.828125  0.000000  \n",
      "                             5.75              NaN   88884.828125  0.000000  \n",
      "                             6.00              NaN   84657.828125  0.000000  \n",
      "...                                            ...            ...       ...  \n",
      "2002-12-31 12:00:00 55.0     19.00      276.916260  101738.914062  0.000000  \n",
      "                             19.25      276.927002  101705.914062  0.000002  \n",
      "                             19.50      276.882080  101663.914062  0.000012  \n",
      "                             19.75      276.850830  101622.914062  0.000017  \n",
      "                             20.00             NaN  101561.914062  0.000015  \n",
      "\n",
      "[912865 rows x 13 columns]\n"
     ]
    }
   ],
   "source": [
    "df = ds.to_dataframe()\n",
    "print(df)\n"
   ]
  },
  {
   "cell_type": "markdown",
   "metadata": {},
   "source": [
    "# Addressing NaNs in the data"
   ]
  },
  {
   "cell_type": "code",
   "execution_count": 6,
   "metadata": {},
   "outputs": [
    {
     "name": "stdout",
     "output_type": "stream",
     "text": [
      "\n",
      "NaN counts per column in DataFrame:\n",
      "number         0\n",
      "expver         0\n",
      "mwd       884395\n",
      "mwp       884395\n",
      "swh       884395\n",
      "u10            0\n",
      "v10            0\n",
      "d2m            0\n",
      "t2m            0\n",
      "msl            0\n",
      "sst       821250\n",
      "sp             0\n",
      "tp             0\n",
      "dtype: int64\n"
     ]
    }
   ],
   "source": [
    "print(\"\\nNaN counts per column in DataFrame:\")\n",
    "print(df.isnull().sum())"
   ]
  },
  {
   "cell_type": "code",
   "execution_count": 7,
   "metadata": {},
   "outputs": [
    {
     "name": "stdout",
     "output_type": "stream",
     "text": [
      "number    0\n",
      "expver    0\n",
      "u10       0\n",
      "v10       0\n",
      "d2m       0\n",
      "t2m       0\n",
      "msl       0\n",
      "sp        0\n",
      "tp        0\n",
      "dtype: int64\n",
      "None\n"
     ]
    }
   ],
   "source": [
    "# List of columns to drop\n",
    "columns_to_drop = ['mwd', 'mwp', 'swh', 'sst']\n",
    "\n",
    "# Drop the columns\n",
    "df_cleaned = df.drop(columns=columns_to_drop)\n",
    "\n",
    "print(print(df_cleaned.isnull().sum()))"
   ]
  },
  {
   "cell_type": "code",
   "execution_count": 8,
   "metadata": {},
   "outputs": [
    {
     "name": "stderr",
     "output_type": "stream",
     "text": [
      "/var/folders/sc/3q0dn98n3650g9d83vqnmpzs5hfw1p/T/ipykernel_1848/175617088.py:19: FutureWarning: ChainedAssignmentError: behaviour will change in pandas 3.0!\n",
      "You are setting values through chained assignment. Currently this works in certain cases, but when using Copy-on-Write (which will become the default behaviour in pandas 3.0) this will never work to update the original DataFrame or Series, because the intermediate object on which we are setting values will behave as a copy.\n",
      "A typical example is when you are setting values in a column of a DataFrame, like:\n",
      "\n",
      "df[\"col\"][row_indexer] = value\n",
      "\n",
      "Use `df.loc[row_indexer, \"col\"] = values` instead, to perform the assignment in a single step and ensure this keeps updating the original `df`.\n",
      "\n",
      "See the caveats in the documentation: https://pandas.pydata.org/pandas-docs/stable/user_guide/indexing.html#returning-a-view-versus-a-copy\n",
      "\n",
      "  df['tp_mm'][df['tp_mm'] < 0] = 0\n",
      "/var/folders/sc/3q0dn98n3650g9d83vqnmpzs5hfw1p/T/ipykernel_1848/175617088.py:19: SettingWithCopyWarning: \n",
      "A value is trying to be set on a copy of a slice from a DataFrame\n",
      "\n",
      "See the caveats in the documentation: https://pandas.pydata.org/pandas-docs/stable/user_guide/indexing.html#returning-a-view-versus-a-copy\n",
      "  df['tp_mm'][df['tp_mm'] < 0] = 0\n"
     ]
    },
    {
     "data": {
      "image/png": "[encoded data removed]",
      "text/plain": [
       "<Figure size 1000x600 with 1 Axes>"
      ]
     },
     "metadata": {},
     "output_type": "display_data"
    },
    {
     "name": "stdout",
     "output_type": "stream",
     "text": [
      "Overall TP (mm) - Min: 0.0, Max: 13.622283935546875, Median: 0.00762939453125\n",
      "Percentage of zero precipitation values: 36.36%\n"
     ]
    }
   ],
   "source": [
    "import matplotlib.pyplot as plt\n",
    "import seaborn as sns\n",
    "import pandas as pd\n",
    "import numpy as np\n",
    "\n",
    "# Ensure 'valid_time' is a proper datetime index if it's not already\n",
    "if not isinstance(df.index, pd.MultiIndex) or 'valid_time' not in df.index.names:\n",
    "    # If df is not multi-indexed by valid_time, latitude, longitude\n",
    "    # Or if valid_time is not a datetime type, convert it.\n",
    "    # This step might vary depending on how df was created from ds\n",
    "    # Assuming valid_time is already the first level of the MultiIndex:\n",
    "    df.index = df.index.set_levels(pd.to_datetime(df.index.levels[0]), level='valid_time')\n",
    "\n",
    "\n",
    "# Convert 'tp' from meters to millimeters\n",
    "df['tp_mm'] = df['tp'] * 1000\n",
    "\n",
    "# Handle potential negative values (if any result from conversion/interpolation)\n",
    "df['tp_mm'][df['tp_mm'] < 0] = 0\n",
    "\n",
    "# You might want to drop rows with NaNs for some variables for analysis\n",
    "# For 'tp_mm', NaNs are less common if original 'tp' was always a number\n",
    "# For other variables like 'mwd', 'mwp', 'swh', 'sst', many NaNs exist.\n",
    "# Example: df_clean = df.dropna(subset=['tp_mm', 'u10', 'v10', 't2m'])\n",
    "\n",
    "plt.figure(figsize=(10, 6))\n",
    "# Filter for non-zero precipitation for a clearer view of actual rainfall events\n",
    "sns.histplot(df['tp_mm'][df['tp_mm'] > 0], bins=50, kde=True, color='blue')\n",
    "plt.title('Overall Distribution of Total Precipitation (TP) in mm (Non-Zero Values)')\n",
    "plt.xlabel('Precipitation (mm)')\n",
    "plt.ylabel('Frequency (Log Scale)')\n",
    "plt.yscale('log') # Use log scale for y-axis to better visualize skewed data\n",
    "plt.grid(True, which=\"both\", ls=\"--\", c='0.7')\n",
    "plt.tight_layout()\n",
    "plt.show()\n",
    "\n",
    "print(f\"Overall TP (mm) - Min: {df['tp_mm'].min()}, Max: {df['tp_mm'].max()}, Median: {df['tp_mm'].median()}\")\n",
    "print(f\"Percentage of zero precipitation values: {np.mean(df['tp_mm'] == 0) * 100:.2f}%\")\n",
    "\n"
   ]
  },
  {
   "cell_type": "markdown",
   "metadata": {},
   "source": [
    "# Train/test split"
   ]
  },
  {
   "cell_type": "code",
   "execution_count": 9,
   "metadata": {},
   "outputs": [
    {
     "name": "stdout",
     "output_type": "stream",
     "text": [
      "DataFrame after sorting and re-indexing (first few rows):\n",
      "                                        number expver       u10       v10  \\\n",
      "valid_time          latitude longitude                                      \n",
      "2002-01-01 12:00:00 45.0     5.00            0   0001 -0.804764 -1.102310   \n",
      "                             5.25            0   0001 -0.738358 -0.229263   \n",
      "                             5.50            0   0001 -0.763748  0.397690   \n",
      "                             5.75            0   0001 -1.006912  0.909409   \n",
      "                             6.00            0   0001 -1.389725  0.598862   \n",
      "\n",
      "                                               d2m         t2m         msl  \\\n",
      "valid_time          latitude longitude                                       \n",
      "2002-01-01 12:00:00 45.0     5.00       267.758881  274.061951  103693.125   \n",
      "                             5.25       266.268646  273.729919  103658.125   \n",
      "                             5.50       265.891693  271.888123  103644.625   \n",
      "                             5.75       261.844818  267.663513  103620.375   \n",
      "                             6.00       256.305756  261.890076  103619.125   \n",
      "\n",
      "                                                  sp   tp  \n",
      "valid_time          latitude longitude                     \n",
      "2002-01-01 12:00:00 45.0     5.00       99381.828125  0.0  \n",
      "                             5.25       96759.828125  0.0  \n",
      "                             5.50       93320.828125  0.0  \n",
      "                             5.75       88884.828125  0.0  \n",
      "                             6.00       84657.828125  0.0  \n",
      "Original shape: (912865, 9)\n"
     ]
    }
   ],
   "source": [
    "df_reset = df_cleaned.reset_index()\n",
    "\n",
    "# Convert 'valid_time' to datetime\n",
    "df_reset['valid_time'] = pd.to_datetime(df_reset['valid_time'])\n",
    "\n",
    "# Sort by time, then latitude, then longitude to ensure consistent grid formation\n",
    "df_sorted = df_reset.sort_values(by=['valid_time', 'latitude', 'longitude'])\n",
    "\n",
    "# Re-set the MultiIndex for easier handling, though we might iterate through it\n",
    "df_final = df_sorted.set_index(['valid_time', 'latitude', 'longitude'])\n",
    "\n",
    "print(\"DataFrame after sorting and re-indexing (first few rows):\")\n",
    "print(df_final.head())\n",
    "print(f\"Original shape: {df_final.shape}\")\n",
    "\n"
   ]
  },
  {
   "cell_type": "code",
   "execution_count": 10,
   "metadata": {},
   "outputs": [
    {
     "name": "stdout",
     "output_type": "stream",
     "text": [
      "\n",
      "Grid dimensions: Latitude=41, Longitude=61\n",
      "Number of features (variables): 9\n"
     ]
    }
   ],
   "source": [
    "# --- 2. Determine Grid Dimensions ---\n",
    "# Get unique latitudes and longitudes\n",
    "latitudes = df_final.index.get_level_values('latitude').unique().sort_values()\n",
    "longitudes = df_final.index.get_level_values('longitude').unique().sort_values()\n",
    "\n",
    "num_lat = len(latitudes)\n",
    "num_lon = len(longitudes)\n",
    "num_features = len(df_final.columns) # All columns are features except if we designate one as target later\n",
    "\n",
    "print(f\"\\nGrid dimensions: Latitude={num_lat}, Longitude={num_lon}\")\n",
    "print(f\"Number of features (variables): {num_features}\")\n"
   ]
  },
  {
   "cell_type": "code",
   "execution_count": 11,
   "metadata": {},
   "outputs": [
    {
     "name": "stdout",
     "output_type": "stream",
     "text": [
      "\n",
      "Shape of gridded_data: (365, 41, 61, 9)\n",
      "NaNs in gridded data after initial reshape: 0\n"
     ]
    }
   ],
   "source": [
    "# --- 3. Reshape to Gridded Data (Time, Lat, Lon, Features) ---\n",
    "# Get all unique timestamps\n",
    "all_times = df_final.index.get_level_values('valid_time').unique().sort_values()\n",
    "num_times = len(all_times)\n",
    "\n",
    "# Create an empty array to store the gridded data\n",
    "# Shape: (num_times, num_lat, num_lon, num_features)\n",
    "gridded_data = np.full((num_times, num_lat, num_lon, num_features), np.nan) # Use nan for missing spots\n",
    "\n",
    "# Map latitude and longitude to array indices\n",
    "lat_to_idx = {lat: i for i, lat in enumerate(latitudes)}\n",
    "lon_to_idx = {lon: i for i, lon in enumerate(longitudes)}\n",
    "\n",
    "# Populate the gridded_data array\n",
    "for t_idx, time in enumerate(all_times):\n",
    "    # Select data for the current timestamp\n",
    "    time_slice_df = df_final.loc[time]\n",
    "\n",
    "    for (lat, lon), row_data in time_slice_df.iterrows():\n",
    "        lat_idx = lat_to_idx[lat]\n",
    "        lon_idx = lon_to_idx[lon]\n",
    "        gridded_data[t_idx, lat_idx, lon_idx, :] = row_data.values\n",
    "\n",
    "print(f\"\\nShape of gridded_data: {gridded_data.shape}\")\n",
    "# Check if there are any NaNs left from this reshaping.\n",
    "# There shouldn't be if all combinations of lat/lon exist for each time.\n",
    "print(f\"NaNs in gridded data after initial reshape: {np.sum(np.isnan(gridded_data))}\")\n"
   ]
  },
  {
   "cell_type": "code",
   "execution_count": 12,
   "metadata": {},
   "outputs": [],
   "source": [
    "# --- 4. Define Input (X) and Target (y) Variables ---\n",
    "# 'tp' is total precipitation, which we want to predict.\n",
    "# Let's find its column index.\n",
    "feature_names = df_final.columns.tolist()\n",
    "tp_col_idx = feature_names.index('tp')\n"
   ]
  },
  {
   "cell_type": "code",
   "execution_count": 13,
   "metadata": {},
   "outputs": [
    {
     "name": "stdout",
     "output_type": "stream",
     "text": [
      "\n",
      "Shape of X_sequences (input): (362, 3, 41, 61, 8)\n",
      "Shape of y_sequences (target): (362, 1, 41, 61)\n"
     ]
    }
   ],
   "source": [
    "# --- 5. Create Sequences for ConvLSTM ---\n",
    "# We need to define:\n",
    "# - `n_steps_in`: how many past time steps to use as input\n",
    "# - `n_steps_out`: how many future time steps to predict (for rainfall, often 1)\n",
    "\n",
    "n_steps_in = 3  # Example: Use the past 3 time steps (e.g., 3 days if data is daily)\n",
    "n_steps_out = 1 # Example: Predict the next 1 time step (e.g., next day's rainfall)\n",
    "\n",
    "def create_sequences(data, n_steps_in, n_steps_out, tp_idx):\n",
    "    X, y = [], []\n",
    "    for i in range(len(data) - n_steps_in - n_steps_out + 1):\n",
    "        # Input sequence (all features except 'tp' for n_steps_in)\n",
    "        # We need to exclude 'tp' from the input features\n",
    "        X_seq_features = np.delete(data[i:(i + n_steps_in)], tp_idx, axis=-1)\n",
    "        X.append(X_seq_features)\n",
    "\n",
    "        # Output sequence (only 'tp' for n_steps_out)\n",
    "        y_seq_tp = data[(i + n_steps_in):(i + n_steps_in + n_steps_out), :, :, tp_idx]\n",
    "        y.append(y_seq_tp)\n",
    "    return np.array(X), np.array(y)\n",
    "\n",
    "X_sequences, y_sequences = create_sequences(gridded_data, n_steps_in, n_steps_out, tp_col_idx)\n",
    "\n",
    "print(f\"\\nShape of X_sequences (input): {X_sequences.shape}\")\n",
    "print(f\"Shape of y_sequences (target): {y_sequences.shape}\")\n",
    "\n",
    "# X_sequences shape should be (num_samples, n_steps_in, num_lat, num_lon, num_features - 1)\n",
    "# y_sequences shape should be (num_samples, n_steps_out, num_lat, num_lon) - if predicting one variable\n",
    "\n"
   ]
  },
  {
   "cell_type": "code",
   "execution_count": 14,
   "metadata": {},
   "outputs": [
    {
     "name": "stdout",
     "output_type": "stream",
     "text": [
      "\n",
      "Training set size: 289 sequences\n",
      "Test set size: 73 sequences\n",
      "X_train shape: (289, 3, 41, 61, 8)\n",
      "y_train shape: (289, 1, 41, 61)\n",
      "X_test shape: (73, 3, 41, 61, 8)\n",
      "y_test shape: (73, 1, 41, 61)\n"
     ]
    }
   ],
   "source": [
    "# --- 6. Time-based Train-Test Split ---\n",
    "# The data covers 2002. Let's use the first ~9 months for training and the last ~3 months for testing.\n",
    "# A common split is 80% train / 20% test.\n",
    "# Since X_sequences and y_sequences are already ordered by time, we can simply split the arrays.\n",
    "\n",
    "# Determine the split point based on the number of sequences\n",
    "split_ratio = 0.8\n",
    "split_index = int(len(X_sequences) * split_ratio)\n",
    "\n",
    "X_train = X_sequences[:split_index]\n",
    "y_train = y_sequences[:split_index]\n",
    "X_test = X_sequences[split_index:]\n",
    "y_test = y_sequences[split_index:]\n",
    "\n",
    "print(f\"\\nTraining set size: {len(X_train)} sequences\")\n",
    "print(f\"Test set size: {len(X_test)} sequences\")\n",
    "\n",
    "print(f\"X_train shape: {X_train.shape}\")\n",
    "print(f\"y_train shape: {y_train.shape}\")\n",
    "print(f\"X_test shape: {X_test.shape}\")\n",
    "print(f\"y_test shape: {y_test.shape}\")\n"
   ]
  },
  {
   "cell_type": "markdown",
   "metadata": {},
   "source": [
    "# Normalisation"
   ]
  },
  {
   "cell_type": "code",
   "execution_count": 15,
   "metadata": {},
   "outputs": [
    {
     "name": "stdout",
     "output_type": "stream",
     "text": [
      "Features (channels) in X_sequences before normalization: ['number', 'expver', 'u10', 'v10', 'd2m', 't2m', 'msl', 'sp']\n",
      "Number of features (channels) in X_sequences: 8\n"
     ]
    }
   ],
   "source": [
    "original_feature_names_in_X_sequences = [col for col in df_final.columns if col != 'tp']\n",
    "\n",
    "\n",
    "print(f\"Features (channels) in X_sequences before normalization: {original_feature_names_in_X_sequences}\")\n",
    "print(f\"Number of features (channels) in X_sequences: {len(original_feature_names_in_X_sequences)}\")\n"
   ]
  },
  {
   "cell_type": "code",
   "execution_count": 16,
   "metadata": {},
   "outputs": [
    {
     "name": "stdout",
     "output_type": "stream",
     "text": [
      "Warning: Feature 'number' is constant and will not be effectively normalized by RobustScaler.\n",
      "It's generally recommended to remove constant features before creating sequences if they are truly constant.\n",
      "Warning: Feature 'expver' is constant and will not be effectively normalized by RobustScaler.\n",
      "It's generally recommended to remove constant features before creating sequences if they are truly constant.\n"
     ]
    }
   ],
   "source": [
    "# --- 1. Identify and Exclude Constant Features (if any) ---\n",
    "# This step should ideally be done BEFORE creating X_sequences.\n",
    "# Let's check for constants in the original `df_final` used to create the gridded data.\n",
    "# If df_final is not available, you would need to load a sample or assume.\n",
    "\n",
    "constant_features_found = []\n",
    "if 'df_final' in locals():\n",
    "    # Check only features that ended up in X_sequences\n",
    "    for col in original_feature_names_in_X_sequences:\n",
    "        if df_final[col].nunique() == 1:\n",
    "            constant_features_found.append(col)\n",
    "            print(f\"Warning: Feature '{col}' is constant and will not be effectively normalized by RobustScaler.\")\n",
    "            print(f\"It's generally recommended to remove constant features before creating sequences if they are truly constant.\")\n",
    "else:\n",
    "    print(\"Warning: `df_final` not found. Cannot verify if features are constant.\")\n"
   ]
  },
  {
   "cell_type": "code",
   "execution_count": 17,
   "metadata": {},
   "outputs": [
    {
     "name": "stdout",
     "output_type": "stream",
     "text": [
      "\n",
      "X_train reshaped for scaler fitting: (2168367, 8)\n",
      "\n",
      "RobustScaler for features (X) fitted on X_train data.\n",
      "X_train normalized reshaped shape: (2168367, 8)\n",
      "X_test normalized reshaped shape: (547719, 8)\n",
      "\n",
      "Final X_train_normalized shape (ready for ConvLSTM input): (289, 3, 41, 61, 8)\n",
      "Final X_test_normalized shape (ready for ConvLSTM input): (73, 3, 41, 61, 8)\n"
     ]
    }
   ],
   "source": [
    "# --- 2. Normalization of X_train and X_test features ---\n",
    "\n",
    "# Get the shape of X_train to reshape back later\n",
    "shape_x_train = X_train.shape # (num_samples, n_steps_in, num_lat, num_lon, num_features_for_scaling)\n",
    "num_features_for_scaling = shape_x_train[-1] # Number of channels (e.g., 8)\n",
    "\n",
    "# Flatten X_train for scaler fitting: (total_elements, num_features)\n",
    "# This combines all samples, timesteps, lat, and lon into a single dimension for feature scaling\n",
    "X_train_reshaped_for_scaler = X_train.reshape(-1, num_features_for_scaling)\n",
    "print(f\"\\nX_train reshaped for scaler fitting: {X_train_reshaped_for_scaler.shape}\")\n",
    "\n",
    "# Initialize RobustScaler for features\n",
    "scaler_X = RobustScaler()\n",
    "\n",
    "# Fit the scaler ONLY on the training data's reshaped features\n",
    "scaler_X.fit(X_train_reshaped_for_scaler)\n",
    "print(\"\\nRobustScaler for features (X) fitted on X_train data.\")\n",
    "\n",
    "# Transform both training and test data using the fitted scaler\n",
    "X_train_normalized_reshaped = scaler_X.transform(X_train_reshaped_for_scaler)\n",
    "X_test_normalized_reshaped = scaler_X.transform(X_test.reshape(-1, num_features_for_scaling)) # Reshape X_test on the fly\n",
    "\n",
    "print(f\"X_train normalized reshaped shape: {X_train_normalized_reshaped.shape}\")\n",
    "print(f\"X_test normalized reshaped shape: {X_test_normalized_reshaped.shape}\")\n",
    "\n",
    "# Reshape the normalized data back to the ConvLSTM input format (5D)\n",
    "X_train_normalized = X_train_normalized_reshaped.reshape(shape_x_train)\n",
    "X_test_normalized = X_test_normalized_reshaped.reshape(X_test.shape) # Use X_test's original shape\n",
    "\n",
    "print(f\"\\nFinal X_train_normalized shape (ready for ConvLSTM input): {X_train_normalized.shape}\")\n",
    "print(f\"Final X_test_normalized shape (ready for ConvLSTM input): {X_test_normalized.shape}\")\n",
    "\n"
   ]
  },
  {
   "cell_type": "code",
   "execution_count": 18,
   "metadata": {},
   "outputs": [
    {
     "name": "stdout",
     "output_type": "stream",
     "text": [
      "Final y_train_normalized shape (ready for ConvLSTM output): (289, 1, 41, 61)\n",
      "Final y_test_normalized shape (ready for ConvLSTM output): (73, 1, 41, 61)\n"
     ]
    }
   ],
   "source": [
    "# --- 3. Normalization for the Target Variable (y - Total Precipitation 'tp') ---\n",
    "# 'tp' values are non-negative and often have a high concentration at zero, with some large values.\n",
    "# RobustScaler can work, but consider alternatives like log1p if zeros are dominant and you want to reduce skewness.\n",
    "\n",
    "# Get the shape of y_train to reshape back later\n",
    "shape_y_train = y_train.shape # (num_samples, n_steps_out, num_lat, num_lon)\n",
    "num_features_y = 1 # 'tp' is a single target variable\n",
    "\n",
    "y_train_normalized = np.log1p(y_train)\n",
    "y_test_normalized = np.log1p(y_test)\n",
    "\n",
    "print(f\"Final y_train_normalized shape (ready for ConvLSTM output): {y_train_normalized.shape}\")\n",
    "print(f\"Final y_test_normalized shape (ready for ConvLSTM output): {y_test_normalized.shape}\")\n",
    "\n"
   ]
  },
  {
   "cell_type": "markdown",
   "metadata": {},
   "source": [
    "# Training"
   ]
  },
  {
   "cell_type": "code",
   "execution_count": 19,
   "metadata": {
    "scrolled": true
   },
   "outputs": [
    {
     "name": "stdout",
     "output_type": "stream",
     "text": [
      "Num GPUs Available:  0\n",
      "No GPU found. Training on CPU.\n",
      "\n",
      "Model Input Parameters:\n",
      "  n_steps_in (sequence length): 3\n",
      "  num_lat (grid rows): 41\n",
      "  num_lon (grid columns): 61\n",
      "  num_channels (input features): 8\n",
      "  n_steps_out (prediction horizon): 1\n",
      "Target 'y' adjusted from (289, 1, 41, 61) to (289, 41, 61) for n_steps_out=1.\n"
     ]
    },
    {
     "name": "stderr",
     "output_type": "stream",
     "text": [
      "/Users/ahmed.shaikh/miniforge3/envs/srsi/lib/python3.9/site-packages/keras/src/layers/rnn/rnn.py:199: UserWarning: Do not pass an `input_shape`/`input_dim` argument to a layer. When using Sequential models, prefer using an `Input(shape)` object as the first layer in the model instead.\n",
      "  super().__init__(**kwargs)\n"
     ]
    },
    {
     "data": {
      "text/html": [
       "<pre style=\"white-space:pre;overflow-x:auto;line-height:normal;font-family:Menlo,'DejaVu Sans Mono',consolas,'Courier New',monospace\"><span style=\"font-weight: bold\">Model: \"sequential\"</span>\n",
       "</pre>\n"
      ],
      "text/plain": [
       "\u001b[1mModel: \"sequential\"\u001b[0m\n"
      ]
     },
     "metadata": {},
     "output_type": "display_data"
    },
    {
     "data": {
      "text/html": [
       "<pre style=\"white-space:pre;overflow-x:auto;line-height:normal;font-family:Menlo,'DejaVu Sans Mono',consolas,'Courier New',monospace\">┏━━━━━━━━━━━━━━━━━━━━━━━━━━━━━━━━━┳━━━━━━━━━━━━━━━━━━━━━━━━┳━━━━━━━━━━━━━━━┓\n",
       "┃<span style=\"font-weight: bold\"> Layer (type)                    </span>┃<span style=\"font-weight: bold\"> Output Shape           </span>┃<span style=\"font-weight: bold\">       Param # </span>┃\n",
       "┡━━━━━━━━━━━━━━━━━━━━━━━━━━━━━━━━━╇━━━━━━━━━━━━━━━━━━━━━━━━╇━━━━━━━━━━━━━━━┩\n",
       "│ conv_lstm2d (<span style=\"color: #0087ff; text-decoration-color: #0087ff\">ConvLSTM2D</span>)        │ (<span style=\"color: #00d7ff; text-decoration-color: #00d7ff\">None</span>, <span style=\"color: #00af00; text-decoration-color: #00af00\">3</span>, <span style=\"color: #00af00; text-decoration-color: #00af00\">41</span>, <span style=\"color: #00af00; text-decoration-color: #00af00\">61</span>, <span style=\"color: #00af00; text-decoration-color: #00af00\">64</span>)  │       <span style=\"color: #00af00; text-decoration-color: #00af00\">461,056</span> │\n",
       "├─────────────────────────────────┼────────────────────────┼───────────────┤\n",
       "│ batch_normalization             │ (<span style=\"color: #00d7ff; text-decoration-color: #00d7ff\">None</span>, <span style=\"color: #00af00; text-decoration-color: #00af00\">3</span>, <span style=\"color: #00af00; text-decoration-color: #00af00\">41</span>, <span style=\"color: #00af00; text-decoration-color: #00af00\">61</span>, <span style=\"color: #00af00; text-decoration-color: #00af00\">64</span>)  │           <span style=\"color: #00af00; text-decoration-color: #00af00\">256</span> │\n",
       "│ (<span style=\"color: #0087ff; text-decoration-color: #0087ff\">BatchNormalization</span>)            │                        │               │\n",
       "├─────────────────────────────────┼────────────────────────┼───────────────┤\n",
       "│ conv_lstm2d_1 (<span style=\"color: #0087ff; text-decoration-color: #0087ff\">ConvLSTM2D</span>)      │ (<span style=\"color: #00d7ff; text-decoration-color: #00d7ff\">None</span>, <span style=\"color: #00af00; text-decoration-color: #00af00\">41</span>, <span style=\"color: #00af00; text-decoration-color: #00af00\">61</span>, <span style=\"color: #00af00; text-decoration-color: #00af00\">64</span>)     │       <span style=\"color: #00af00; text-decoration-color: #00af00\">295,168</span> │\n",
       "├─────────────────────────────────┼────────────────────────┼───────────────┤\n",
       "│ batch_normalization_1           │ (<span style=\"color: #00d7ff; text-decoration-color: #00d7ff\">None</span>, <span style=\"color: #00af00; text-decoration-color: #00af00\">41</span>, <span style=\"color: #00af00; text-decoration-color: #00af00\">61</span>, <span style=\"color: #00af00; text-decoration-color: #00af00\">64</span>)     │           <span style=\"color: #00af00; text-decoration-color: #00af00\">256</span> │\n",
       "│ (<span style=\"color: #0087ff; text-decoration-color: #0087ff\">BatchNormalization</span>)            │                        │               │\n",
       "├─────────────────────────────────┼────────────────────────┼───────────────┤\n",
       "│ conv2d (<span style=\"color: #0087ff; text-decoration-color: #0087ff\">Conv2D</span>)                 │ (<span style=\"color: #00d7ff; text-decoration-color: #00d7ff\">None</span>, <span style=\"color: #00af00; text-decoration-color: #00af00\">41</span>, <span style=\"color: #00af00; text-decoration-color: #00af00\">61</span>, <span style=\"color: #00af00; text-decoration-color: #00af00\">1</span>)      │            <span style=\"color: #00af00; text-decoration-color: #00af00\">65</span> │\n",
       "├─────────────────────────────────┼────────────────────────┼───────────────┤\n",
       "│ lambda (<span style=\"color: #0087ff; text-decoration-color: #0087ff\">Lambda</span>)                 │ (<span style=\"color: #00d7ff; text-decoration-color: #00d7ff\">None</span>, <span style=\"color: #00af00; text-decoration-color: #00af00\">41</span>, <span style=\"color: #00af00; text-decoration-color: #00af00\">61</span>)         │             <span style=\"color: #00af00; text-decoration-color: #00af00\">0</span> │\n",
       "└─────────────────────────────────┴────────────────────────┴───────────────┘\n",
       "</pre>\n"
      ],
      "text/plain": [
       "┏━━━━━━━━━━━━━━━━━━━━━━━━━━━━━━━━━┳━━━━━━━━━━━━━━━━━━━━━━━━┳━━━━━━━━━━━━━━━┓\n",
       "┃\u001b[1m \u001b[0m\u001b[1mLayer (type)                   \u001b[0m\u001b[1m \u001b[0m┃\u001b[1m \u001b[0m\u001b[1mOutput Shape          \u001b[0m\u001b[1m \u001b[0m┃\u001b[1m \u001b[0m\u001b[1m      Param #\u001b[0m\u001b[1m \u001b[0m┃\n",
       "┡━━━━━━━━━━━━━━━━━━━━━━━━━━━━━━━━━╇━━━━━━━━━━━━━━━━━━━━━━━━╇━━━━━━━━━━━━━━━┩\n",
       "│ conv_lstm2d (\u001b[38;5;33mConvLSTM2D\u001b[0m)        │ (\u001b[38;5;45mNone\u001b[0m, \u001b[38;5;34m3\u001b[0m, \u001b[38;5;34m41\u001b[0m, \u001b[38;5;34m61\u001b[0m, \u001b[38;5;34m64\u001b[0m)  │       \u001b[38;5;34m461,056\u001b[0m │\n",
       "├─────────────────────────────────┼────────────────────────┼───────────────┤\n",
       "│ batch_normalization             │ (\u001b[38;5;45mNone\u001b[0m, \u001b[38;5;34m3\u001b[0m, \u001b[38;5;34m41\u001b[0m, \u001b[38;5;34m61\u001b[0m, \u001b[38;5;34m64\u001b[0m)  │           \u001b[38;5;34m256\u001b[0m │\n",
       "│ (\u001b[38;5;33mBatchNormalization\u001b[0m)            │                        │               │\n",
       "├─────────────────────────────────┼────────────────────────┼───────────────┤\n",
       "│ conv_lstm2d_1 (\u001b[38;5;33mConvLSTM2D\u001b[0m)      │ (\u001b[38;5;45mNone\u001b[0m, \u001b[38;5;34m41\u001b[0m, \u001b[38;5;34m61\u001b[0m, \u001b[38;5;34m64\u001b[0m)     │       \u001b[38;5;34m295,168\u001b[0m │\n",
       "├─────────────────────────────────┼────────────────────────┼───────────────┤\n",
       "│ batch_normalization_1           │ (\u001b[38;5;45mNone\u001b[0m, \u001b[38;5;34m41\u001b[0m, \u001b[38;5;34m61\u001b[0m, \u001b[38;5;34m64\u001b[0m)     │           \u001b[38;5;34m256\u001b[0m │\n",
       "│ (\u001b[38;5;33mBatchNormalization\u001b[0m)            │                        │               │\n",
       "├─────────────────────────────────┼────────────────────────┼───────────────┤\n",
       "│ conv2d (\u001b[38;5;33mConv2D\u001b[0m)                 │ (\u001b[38;5;45mNone\u001b[0m, \u001b[38;5;34m41\u001b[0m, \u001b[38;5;34m61\u001b[0m, \u001b[38;5;34m1\u001b[0m)      │            \u001b[38;5;34m65\u001b[0m │\n",
       "├─────────────────────────────────┼────────────────────────┼───────────────┤\n",
       "│ lambda (\u001b[38;5;33mLambda\u001b[0m)                 │ (\u001b[38;5;45mNone\u001b[0m, \u001b[38;5;34m41\u001b[0m, \u001b[38;5;34m61\u001b[0m)         │             \u001b[38;5;34m0\u001b[0m │\n",
       "└─────────────────────────────────┴────────────────────────┴───────────────┘\n"
      ]
     },
     "metadata": {},
     "output_type": "display_data"
    },
    {
     "data": {
      "text/html": [
       "<pre style=\"white-space:pre;overflow-x:auto;line-height:normal;font-family:Menlo,'DejaVu Sans Mono',consolas,'Courier New',monospace\"><span style=\"font-weight: bold\"> Total params: </span><span style=\"color: #00af00; text-decoration-color: #00af00\">756,801</span> (2.89 MB)\n",
       "</pre>\n"
      ],
      "text/plain": [
       "\u001b[1m Total params: \u001b[0m\u001b[38;5;34m756,801\u001b[0m (2.89 MB)\n"
      ]
     },
     "metadata": {},
     "output_type": "display_data"
    },
    {
     "data": {
      "text/html": [
       "<pre style=\"white-space:pre;overflow-x:auto;line-height:normal;font-family:Menlo,'DejaVu Sans Mono',consolas,'Courier New',monospace\"><span style=\"font-weight: bold\"> Trainable params: </span><span style=\"color: #00af00; text-decoration-color: #00af00\">756,545</span> (2.89 MB)\n",
       "</pre>\n"
      ],
      "text/plain": [
       "\u001b[1m Trainable params: \u001b[0m\u001b[38;5;34m756,545\u001b[0m (2.89 MB)\n"
      ]
     },
     "metadata": {},
     "output_type": "display_data"
    },
    {
     "data": {
      "text/html": [
       "<pre style=\"white-space:pre;overflow-x:auto;line-height:normal;font-family:Menlo,'DejaVu Sans Mono',consolas,'Courier New',monospace\"><span style=\"font-weight: bold\"> Non-trainable params: </span><span style=\"color: #00af00; text-decoration-color: #00af00\">256</span> (1.00 KB)\n",
       "</pre>\n"
      ],
      "text/plain": [
       "\u001b[1m Non-trainable params: \u001b[0m\u001b[38;5;34m256\u001b[0m (1.00 KB)\n"
      ]
     },
     "metadata": {},
     "output_type": "display_data"
    },
    {
     "name": "stdout",
     "output_type": "stream",
     "text": [
      "\n",
      "Starting model training...\n",
      "Epoch 1/50\n",
      "\u001b[1m29/29\u001b[0m \u001b[32m━━━━━━━━━━━━━━━━━━━━\u001b[0m\u001b[37m\u001b[0m \u001b[1m0s\u001b[0m 1s/step - loss: 0.9003 - mae: 0.6101\n",
      "Epoch 1: val_loss improved from inf to 0.01825, saving model to best_convlstm_model.h5\n"
     ]
    },
    {
     "name": "stderr",
     "output_type": "stream",
     "text": [
      "WARNING:absl:You are saving your model as an HDF5 file via `model.save()` or `keras.saving.save_model(model)`. This file format is considered legacy. We recommend using instead the native Keras format, e.g. `model.save('my_model.keras')` or `keras.saving.save_model(model, 'my_model.keras')`. \n"
     ]
    },
    {
     "name": "stdout",
     "output_type": "stream",
     "text": [
      "\u001b[1m29/29\u001b[0m \u001b[32m━━━━━━━━━━━━━━━━━━━━\u001b[0m\u001b[37m\u001b[0m \u001b[1m41s\u001b[0m 1s/step - loss: 0.8834 - mae: 0.6024 - val_loss: 0.0183 - val_mae: 0.1003\n",
      "Epoch 2/50\n",
      "\u001b[1m29/29\u001b[0m \u001b[32m━━━━━━━━━━━━━━━━━━━━\u001b[0m\u001b[37m\u001b[0m \u001b[1m0s\u001b[0m 1s/step - loss: 0.0372 - mae: 0.1448\n",
      "Epoch 2: val_loss did not improve from 0.01825\n",
      "\u001b[1m29/29\u001b[0m \u001b[32m━━━━━━━━━━━━━━━━━━━━\u001b[0m\u001b[37m\u001b[0m \u001b[1m38s\u001b[0m 1s/step - loss: 0.0370 - mae: 0.1444 - val_loss: 0.0249 - val_mae: 0.1247\n",
      "Epoch 3/50\n",
      "\u001b[1m29/29\u001b[0m \u001b[32m━━━━━━━━━━━━━━━━━━━━\u001b[0m\u001b[37m\u001b[0m \u001b[1m0s\u001b[0m 1s/step - loss: 0.0176 - mae: 0.0941\n",
      "Epoch 3: val_loss improved from 0.01825 to 0.01515, saving model to best_convlstm_model.h5\n"
     ]
    },
    {
     "name": "stderr",
     "output_type": "stream",
     "text": [
      "WARNING:absl:You are saving your model as an HDF5 file via `model.save()` or `keras.saving.save_model(model)`. This file format is considered legacy. We recommend using instead the native Keras format, e.g. `model.save('my_model.keras')` or `keras.saving.save_model(model, 'my_model.keras')`. \n"
     ]
    },
    {
     "name": "stdout",
     "output_type": "stream",
     "text": [
      "\u001b[1m29/29\u001b[0m \u001b[32m━━━━━━━━━━━━━━━━━━━━\u001b[0m\u001b[37m\u001b[0m \u001b[1m43s\u001b[0m 2s/step - loss: 0.0176 - mae: 0.0941 - val_loss: 0.0152 - val_mae: 0.1031\n",
      "Epoch 4/50\n",
      "\u001b[1m29/29\u001b[0m \u001b[32m━━━━━━━━━━━━━━━━━━━━\u001b[0m\u001b[37m\u001b[0m \u001b[1m0s\u001b[0m 1s/step - loss: 0.0098 - mae: 0.0747\n",
      "Epoch 4: val_loss improved from 0.01515 to 0.01494, saving model to best_convlstm_model.h5\n"
     ]
    },
    {
     "name": "stderr",
     "output_type": "stream",
     "text": [
      "WARNING:absl:You are saving your model as an HDF5 file via `model.save()` or `keras.saving.save_model(model)`. This file format is considered legacy. We recommend using instead the native Keras format, e.g. `model.save('my_model.keras')` or `keras.saving.save_model(model, 'my_model.keras')`. \n"
     ]
    },
    {
     "name": "stdout",
     "output_type": "stream",
     "text": [
      "\u001b[1m29/29\u001b[0m \u001b[32m━━━━━━━━━━━━━━━━━━━━\u001b[0m\u001b[37m\u001b[0m \u001b[1m46s\u001b[0m 2s/step - loss: 0.0097 - mae: 0.0746 - val_loss: 0.0149 - val_mae: 0.1094\n",
      "Epoch 5/50\n",
      "\u001b[1m29/29\u001b[0m \u001b[32m━━━━━━━━━━━━━━━━━━━━\u001b[0m\u001b[37m\u001b[0m \u001b[1m0s\u001b[0m 1s/step - loss: 0.0068 - mae: 0.0614\n",
      "Epoch 5: val_loss did not improve from 0.01494\n",
      "\u001b[1m29/29\u001b[0m \u001b[32m━━━━━━━━━━━━━━━━━━━━\u001b[0m\u001b[37m\u001b[0m \u001b[1m44s\u001b[0m 2s/step - loss: 0.0068 - mae: 0.0611 - val_loss: 0.0166 - val_mae: 0.1151\n",
      "Epoch 6/50\n",
      "\u001b[1m29/29\u001b[0m \u001b[32m━━━━━━━━━━━━━━━━━━━━\u001b[0m\u001b[37m\u001b[0m \u001b[1m0s\u001b[0m 1s/step - loss: 0.0042 - mae: 0.0481\n",
      "Epoch 6: val_loss improved from 0.01494 to 0.01418, saving model to best_convlstm_model.h5\n"
     ]
    },
    {
     "name": "stderr",
     "output_type": "stream",
     "text": [
      "WARNING:absl:You are saving your model as an HDF5 file via `model.save()` or `keras.saving.save_model(model)`. This file format is considered legacy. We recommend using instead the native Keras format, e.g. `model.save('my_model.keras')` or `keras.saving.save_model(model, 'my_model.keras')`. \n"
     ]
    },
    {
     "name": "stdout",
     "output_type": "stream",
     "text": [
      "\u001b[1m29/29\u001b[0m \u001b[32m━━━━━━━━━━━━━━━━━━━━\u001b[0m\u001b[37m\u001b[0m \u001b[1m44s\u001b[0m 2s/step - loss: 0.0042 - mae: 0.0481 - val_loss: 0.0142 - val_mae: 0.1071\n",
      "Epoch 7/50\n",
      "\u001b[1m29/29\u001b[0m \u001b[32m━━━━━━━━━━━━━━━━━━━━\u001b[0m\u001b[37m\u001b[0m \u001b[1m0s\u001b[0m 1s/step - loss: 0.0071 - mae: 0.0521\n",
      "Epoch 7: val_loss did not improve from 0.01418\n",
      "\u001b[1m29/29\u001b[0m \u001b[32m━━━━━━━━━━━━━━━━━━━━\u001b[0m\u001b[37m\u001b[0m \u001b[1m43s\u001b[0m 1s/step - loss: 0.0072 - mae: 0.0523 - val_loss: 0.0156 - val_mae: 0.1125\n",
      "Epoch 8/50\n",
      "\u001b[1m29/29\u001b[0m \u001b[32m━━━━━━━━━━━━━━━━━━━━\u001b[0m\u001b[37m\u001b[0m \u001b[1m0s\u001b[0m 1s/step - loss: 0.0065 - mae: 0.0568\n",
      "Epoch 8: val_loss improved from 0.01418 to 0.01155, saving model to best_convlstm_model.h5\n"
     ]
    },
    {
     "name": "stderr",
     "output_type": "stream",
     "text": [
      "WARNING:absl:You are saving your model as an HDF5 file via `model.save()` or `keras.saving.save_model(model)`. This file format is considered legacy. We recommend using instead the native Keras format, e.g. `model.save('my_model.keras')` or `keras.saving.save_model(model, 'my_model.keras')`. \n"
     ]
    },
    {
     "name": "stdout",
     "output_type": "stream",
     "text": [
      "\u001b[1m29/29\u001b[0m \u001b[32m━━━━━━━━━━━━━━━━━━━━\u001b[0m\u001b[37m\u001b[0m \u001b[1m47s\u001b[0m 2s/step - loss: 0.0065 - mae: 0.0566 - val_loss: 0.0116 - val_mae: 0.0938\n",
      "Epoch 9/50\n",
      "\u001b[1m29/29\u001b[0m \u001b[32m━━━━━━━━━━━━━━━━━━━━\u001b[0m\u001b[37m\u001b[0m \u001b[1m0s\u001b[0m 1s/step - loss: 0.0039 - mae: 0.0446\n",
      "Epoch 9: val_loss improved from 0.01155 to 0.00749, saving model to best_convlstm_model.h5\n"
     ]
    },
    {
     "name": "stderr",
     "output_type": "stream",
     "text": [
      "WARNING:absl:You are saving your model as an HDF5 file via `model.save()` or `keras.saving.save_model(model)`. This file format is considered legacy. We recommend using instead the native Keras format, e.g. `model.save('my_model.keras')` or `keras.saving.save_model(model, 'my_model.keras')`. \n"
     ]
    },
    {
     "name": "stdout",
     "output_type": "stream",
     "text": [
      "\u001b[1m29/29\u001b[0m \u001b[32m━━━━━━━━━━━━━━━━━━━━\u001b[0m\u001b[37m\u001b[0m \u001b[1m45s\u001b[0m 2s/step - loss: 0.0039 - mae: 0.0446 - val_loss: 0.0075 - val_mae: 0.0739\n",
      "Epoch 10/50\n",
      "\u001b[1m29/29\u001b[0m \u001b[32m━━━━━━━━━━━━━━━━━━━━\u001b[0m\u001b[37m\u001b[0m \u001b[1m0s\u001b[0m 1s/step - loss: 0.0033 - mae: 0.0418\n",
      "Epoch 10: val_loss improved from 0.00749 to 0.00693, saving model to best_convlstm_model.h5\n"
     ]
    },
    {
     "name": "stderr",
     "output_type": "stream",
     "text": [
      "WARNING:absl:You are saving your model as an HDF5 file via `model.save()` or `keras.saving.save_model(model)`. This file format is considered legacy. We recommend using instead the native Keras format, e.g. `model.save('my_model.keras')` or `keras.saving.save_model(model, 'my_model.keras')`. \n"
     ]
    },
    {
     "name": "stdout",
     "output_type": "stream",
     "text": [
      "\u001b[1m29/29\u001b[0m \u001b[32m━━━━━━━━━━━━━━━━━━━━\u001b[0m\u001b[37m\u001b[0m \u001b[1m42s\u001b[0m 1s/step - loss: 0.0033 - mae: 0.0418 - val_loss: 0.0069 - val_mae: 0.0707\n",
      "Epoch 11/50\n",
      "\u001b[1m29/29\u001b[0m \u001b[32m━━━━━━━━━━━━━━━━━━━━\u001b[0m\u001b[37m\u001b[0m \u001b[1m0s\u001b[0m 1s/step - loss: 0.0018 - mae: 0.0316\n",
      "Epoch 11: val_loss improved from 0.00693 to 0.00523, saving model to best_convlstm_model.h5\n"
     ]
    },
    {
     "name": "stderr",
     "output_type": "stream",
     "text": [
      "WARNING:absl:You are saving your model as an HDF5 file via `model.save()` or `keras.saving.save_model(model)`. This file format is considered legacy. We recommend using instead the native Keras format, e.g. `model.save('my_model.keras')` or `keras.saving.save_model(model, 'my_model.keras')`. \n"
     ]
    },
    {
     "name": "stdout",
     "output_type": "stream",
     "text": [
      "\u001b[1m29/29\u001b[0m \u001b[32m━━━━━━━━━━━━━━━━━━━━\u001b[0m\u001b[37m\u001b[0m \u001b[1m40s\u001b[0m 1s/step - loss: 0.0018 - mae: 0.0316 - val_loss: 0.0052 - val_mae: 0.0600\n",
      "Epoch 12/50\n",
      "\u001b[1m29/29\u001b[0m \u001b[32m━━━━━━━━━━━━━━━━━━━━\u001b[0m\u001b[37m\u001b[0m \u001b[1m0s\u001b[0m 1s/step - loss: 0.0050 - mae: 0.0475\n",
      "Epoch 12: val_loss improved from 0.00523 to 0.00424, saving model to best_convlstm_model.h5\n"
     ]
    },
    {
     "name": "stderr",
     "output_type": "stream",
     "text": [
      "WARNING:absl:You are saving your model as an HDF5 file via `model.save()` or `keras.saving.save_model(model)`. This file format is considered legacy. We recommend using instead the native Keras format, e.g. `model.save('my_model.keras')` or `keras.saving.save_model(model, 'my_model.keras')`. \n"
     ]
    },
    {
     "name": "stdout",
     "output_type": "stream",
     "text": [
      "\u001b[1m29/29\u001b[0m \u001b[32m━━━━━━━━━━━━━━━━━━━━\u001b[0m\u001b[37m\u001b[0m \u001b[1m40s\u001b[0m 1s/step - loss: 0.0050 - mae: 0.0473 - val_loss: 0.0042 - val_mae: 0.0526\n",
      "Epoch 13/50\n",
      "\u001b[1m29/29\u001b[0m \u001b[32m━━━━━━━━━━━━━━━━━━━━\u001b[0m\u001b[37m\u001b[0m \u001b[1m0s\u001b[0m 1s/step - loss: 0.0014 - mae: 0.0281\n",
      "Epoch 13: val_loss improved from 0.00424 to 0.00322, saving model to best_convlstm_model.h5\n"
     ]
    },
    {
     "name": "stderr",
     "output_type": "stream",
     "text": [
      "WARNING:absl:You are saving your model as an HDF5 file via `model.save()` or `keras.saving.save_model(model)`. This file format is considered legacy. We recommend using instead the native Keras format, e.g. `model.save('my_model.keras')` or `keras.saving.save_model(model, 'my_model.keras')`. \n"
     ]
    },
    {
     "name": "stdout",
     "output_type": "stream",
     "text": [
      "\u001b[1m29/29\u001b[0m \u001b[32m━━━━━━━━━━━━━━━━━━━━\u001b[0m\u001b[37m\u001b[0m \u001b[1m41s\u001b[0m 1s/step - loss: 0.0014 - mae: 0.0281 - val_loss: 0.0032 - val_mae: 0.0442\n",
      "Epoch 14/50\n",
      "\u001b[1m29/29\u001b[0m \u001b[32m━━━━━━━━━━━━━━━━━━━━\u001b[0m\u001b[37m\u001b[0m \u001b[1m0s\u001b[0m 1s/step - loss: 0.0012 - mae: 0.0257\n",
      "Epoch 14: val_loss improved from 0.00322 to 0.00267, saving model to best_convlstm_model.h5\n"
     ]
    },
    {
     "name": "stderr",
     "output_type": "stream",
     "text": [
      "WARNING:absl:You are saving your model as an HDF5 file via `model.save()` or `keras.saving.save_model(model)`. This file format is considered legacy. We recommend using instead the native Keras format, e.g. `model.save('my_model.keras')` or `keras.saving.save_model(model, 'my_model.keras')`. \n"
     ]
    },
    {
     "name": "stdout",
     "output_type": "stream",
     "text": [
      "\u001b[1m29/29\u001b[0m \u001b[32m━━━━━━━━━━━━━━━━━━━━\u001b[0m\u001b[37m\u001b[0m \u001b[1m40s\u001b[0m 1s/step - loss: 0.0012 - mae: 0.0257 - val_loss: 0.0027 - val_mae: 0.0407\n",
      "Epoch 15/50\n",
      "\u001b[1m29/29\u001b[0m \u001b[32m━━━━━━━━━━━━━━━━━━━━\u001b[0m\u001b[37m\u001b[0m \u001b[1m0s\u001b[0m 1s/step - loss: 0.0011 - mae: 0.0246\n",
      "Epoch 15: val_loss improved from 0.00267 to 0.00254, saving model to best_convlstm_model.h5\n"
     ]
    },
    {
     "name": "stderr",
     "output_type": "stream",
     "text": [
      "WARNING:absl:You are saving your model as an HDF5 file via `model.save()` or `keras.saving.save_model(model)`. This file format is considered legacy. We recommend using instead the native Keras format, e.g. `model.save('my_model.keras')` or `keras.saving.save_model(model, 'my_model.keras')`. \n"
     ]
    },
    {
     "name": "stdout",
     "output_type": "stream",
     "text": [
      "\u001b[1m29/29\u001b[0m \u001b[32m━━━━━━━━━━━━━━━━━━━━\u001b[0m\u001b[37m\u001b[0m \u001b[1m40s\u001b[0m 1s/step - loss: 0.0011 - mae: 0.0246 - val_loss: 0.0025 - val_mae: 0.0387\n",
      "Epoch 16/50\n",
      "\u001b[1m29/29\u001b[0m \u001b[32m━━━━━━━━━━━━━━━━━━━━\u001b[0m\u001b[37m\u001b[0m \u001b[1m0s\u001b[0m 1s/step - loss: 0.0011 - mae: 0.0256\n",
      "Epoch 16: val_loss improved from 0.00254 to 0.00229, saving model to best_convlstm_model.h5\n"
     ]
    },
    {
     "name": "stderr",
     "output_type": "stream",
     "text": [
      "WARNING:absl:You are saving your model as an HDF5 file via `model.save()` or `keras.saving.save_model(model)`. This file format is considered legacy. We recommend using instead the native Keras format, e.g. `model.save('my_model.keras')` or `keras.saving.save_model(model, 'my_model.keras')`. \n"
     ]
    },
    {
     "name": "stdout",
     "output_type": "stream",
     "text": [
      "\u001b[1m29/29\u001b[0m \u001b[32m━━━━━━━━━━━━━━━━━━━━\u001b[0m\u001b[37m\u001b[0m \u001b[1m40s\u001b[0m 1s/step - loss: 0.0011 - mae: 0.0256 - val_loss: 0.0023 - val_mae: 0.0363\n",
      "Epoch 17/50\n",
      "\u001b[1m29/29\u001b[0m \u001b[32m━━━━━━━━━━━━━━━━━━━━\u001b[0m\u001b[37m\u001b[0m \u001b[1m0s\u001b[0m 1s/step - loss: 0.0013 - mae: 0.0254\n",
      "Epoch 17: val_loss did not improve from 0.00229\n",
      "\u001b[1m29/29\u001b[0m \u001b[32m━━━━━━━━━━━━━━━━━━━━\u001b[0m\u001b[37m\u001b[0m \u001b[1m40s\u001b[0m 1s/step - loss: 0.0014 - mae: 0.0257 - val_loss: 0.0041 - val_mae: 0.0496\n",
      "Epoch 18/50\n",
      "\u001b[1m29/29\u001b[0m \u001b[32m━━━━━━━━━━━━━━━━━━━━\u001b[0m\u001b[37m\u001b[0m \u001b[1m0s\u001b[0m 1s/step - loss: 0.0118 - mae: 0.0729\n",
      "Epoch 18: val_loss did not improve from 0.00229\n",
      "\u001b[1m29/29\u001b[0m \u001b[32m━━━━━━━━━━━━━━━━━━━━\u001b[0m\u001b[37m\u001b[0m \u001b[1m40s\u001b[0m 1s/step - loss: 0.0117 - mae: 0.0725 - val_loss: 0.0231 - val_mae: 0.0936\n",
      "Epoch 19/50\n",
      "\u001b[1m29/29\u001b[0m \u001b[32m━━━━━━━━━━━━━━━━━━━━\u001b[0m\u001b[37m\u001b[0m \u001b[1m0s\u001b[0m 1s/step - loss: 0.0021 - mae: 0.0333\n",
      "Epoch 19: val_loss did not improve from 0.00229\n",
      "\u001b[1m29/29\u001b[0m \u001b[32m━━━━━━━━━━━━━━━━━━━━\u001b[0m\u001b[37m\u001b[0m \u001b[1m43s\u001b[0m 1s/step - loss: 0.0021 - mae: 0.0332 - val_loss: 0.0114 - val_mae: 0.0647\n",
      "Epoch 20/50\n",
      "\u001b[1m29/29\u001b[0m \u001b[32m━━━━━━━━━━━━━━━━━━━━\u001b[0m\u001b[37m\u001b[0m \u001b[1m0s\u001b[0m 1s/step - loss: 0.0011 - mae: 0.0234\n",
      "Epoch 20: val_loss did not improve from 0.00229\n",
      "\u001b[1m29/29\u001b[0m \u001b[32m━━━━━━━━━━━━━━━━━━━━\u001b[0m\u001b[37m\u001b[0m \u001b[1m41s\u001b[0m 1s/step - loss: 0.0011 - mae: 0.0234 - val_loss: 0.0062 - val_mae: 0.0507\n",
      "Epoch 21/50\n",
      "\u001b[1m29/29\u001b[0m \u001b[32m━━━━━━━━━━━━━━━━━━━━\u001b[0m\u001b[37m\u001b[0m \u001b[1m0s\u001b[0m 1s/step - loss: 0.0016 - mae: 0.0288\n",
      "Epoch 21: val_loss did not improve from 0.00229\n",
      "\u001b[1m29/29\u001b[0m \u001b[32m━━━━━━━━━━━━━━━━━━━━\u001b[0m\u001b[37m\u001b[0m \u001b[1m40s\u001b[0m 1s/step - loss: 0.0016 - mae: 0.0287 - val_loss: 0.0026 - val_mae: 0.0354\n",
      "Epoch 22/50\n",
      "\u001b[1m29/29\u001b[0m \u001b[32m━━━━━━━━━━━━━━━━━━━━\u001b[0m\u001b[37m\u001b[0m \u001b[1m0s\u001b[0m 1s/step - loss: 0.0011 - mae: 0.0225\n",
      "Epoch 22: val_loss improved from 0.00229 to 0.00174, saving model to best_convlstm_model.h5\n"
     ]
    },
    {
     "name": "stderr",
     "output_type": "stream",
     "text": [
      "WARNING:absl:You are saving your model as an HDF5 file via `model.save()` or `keras.saving.save_model(model)`. This file format is considered legacy. We recommend using instead the native Keras format, e.g. `model.save('my_model.keras')` or `keras.saving.save_model(model, 'my_model.keras')`. \n"
     ]
    },
    {
     "name": "stdout",
     "output_type": "stream",
     "text": [
      "\u001b[1m29/29\u001b[0m \u001b[32m━━━━━━━━━━━━━━━━━━━━\u001b[0m\u001b[37m\u001b[0m \u001b[1m41s\u001b[0m 1s/step - loss: 0.0012 - mae: 0.0225 - val_loss: 0.0017 - val_mae: 0.0312\n",
      "Epoch 23/50\n",
      "\u001b[1m29/29\u001b[0m \u001b[32m━━━━━━━━━━━━━━━━━━━━\u001b[0m\u001b[37m\u001b[0m \u001b[1m0s\u001b[0m 1s/step - loss: 8.7557e-04 - mae: 0.0217\n",
      "Epoch 23: val_loss improved from 0.00174 to 0.00093, saving model to best_convlstm_model.h5\n"
     ]
    },
    {
     "name": "stderr",
     "output_type": "stream",
     "text": [
      "WARNING:absl:You are saving your model as an HDF5 file via `model.save()` or `keras.saving.save_model(model)`. This file format is considered legacy. We recommend using instead the native Keras format, e.g. `model.save('my_model.keras')` or `keras.saving.save_model(model, 'my_model.keras')`. \n"
     ]
    },
    {
     "name": "stdout",
     "output_type": "stream",
     "text": [
      "\u001b[1m29/29\u001b[0m \u001b[32m━━━━━━━━━━━━━━━━━━━━\u001b[0m\u001b[37m\u001b[0m \u001b[1m41s\u001b[0m 1s/step - loss: 8.7493e-04 - mae: 0.0217 - val_loss: 9.3092e-04 - val_mae: 0.0226\n",
      "Epoch 24/50\n",
      "\u001b[1m29/29\u001b[0m \u001b[32m━━━━━━━━━━━━━━━━━━━━\u001b[0m\u001b[37m\u001b[0m \u001b[1m0s\u001b[0m 1s/step - loss: 5.8670e-04 - mae: 0.0179\n",
      "Epoch 24: val_loss improved from 0.00093 to 0.00041, saving model to best_convlstm_model.h5\n"
     ]
    },
    {
     "name": "stderr",
     "output_type": "stream",
     "text": [
      "WARNING:absl:You are saving your model as an HDF5 file via `model.save()` or `keras.saving.save_model(model)`. This file format is considered legacy. We recommend using instead the native Keras format, e.g. `model.save('my_model.keras')` or `keras.saving.save_model(model, 'my_model.keras')`. \n"
     ]
    },
    {
     "name": "stdout",
     "output_type": "stream",
     "text": [
      "\u001b[1m29/29\u001b[0m \u001b[32m━━━━━━━━━━━━━━━━━━━━\u001b[0m\u001b[37m\u001b[0m \u001b[1m41s\u001b[0m 1s/step - loss: 5.8766e-04 - mae: 0.0179 - val_loss: 4.1266e-04 - val_mae: 0.0157\n",
      "Epoch 25/50\n",
      "\u001b[1m29/29\u001b[0m \u001b[32m━━━━━━━━━━━━━━━━━━━━\u001b[0m\u001b[37m\u001b[0m \u001b[1m0s\u001b[0m 1s/step - loss: 7.9392e-04 - mae: 0.0198\n",
      "Epoch 25: val_loss improved from 0.00041 to 0.00032, saving model to best_convlstm_model.h5\n"
     ]
    },
    {
     "name": "stderr",
     "output_type": "stream",
     "text": [
      "WARNING:absl:You are saving your model as an HDF5 file via `model.save()` or `keras.saving.save_model(model)`. This file format is considered legacy. We recommend using instead the native Keras format, e.g. `model.save('my_model.keras')` or `keras.saving.save_model(model, 'my_model.keras')`. \n"
     ]
    },
    {
     "name": "stdout",
     "output_type": "stream",
     "text": [
      "\u001b[1m29/29\u001b[0m \u001b[32m━━━━━━━━━━━━━━━━━━━━\u001b[0m\u001b[37m\u001b[0m \u001b[1m42s\u001b[0m 1s/step - loss: 7.9017e-04 - mae: 0.0197 - val_loss: 3.2401e-04 - val_mae: 0.0139\n",
      "Epoch 26/50\n",
      "\u001b[1m29/29\u001b[0m \u001b[32m━━━━━━━━━━━━━━━━━━━━\u001b[0m\u001b[37m\u001b[0m \u001b[1m0s\u001b[0m 1s/step - loss: 6.3932e-04 - mae: 0.0170\n",
      "Epoch 26: val_loss did not improve from 0.00032\n",
      "\u001b[1m29/29\u001b[0m \u001b[32m━━━━━━━━━━━━━━━━━━━━\u001b[0m\u001b[37m\u001b[0m \u001b[1m41s\u001b[0m 1s/step - loss: 6.4721e-04 - mae: 0.0170 - val_loss: 3.7120e-04 - val_mae: 0.0146\n",
      "Epoch 27/50\n",
      "\u001b[1m29/29\u001b[0m \u001b[32m━━━━━━━━━━━━━━━━━━━━\u001b[0m\u001b[37m\u001b[0m \u001b[1m0s\u001b[0m 1s/step - loss: 5.5478e-04 - mae: 0.0173\n",
      "Epoch 27: val_loss improved from 0.00032 to 0.00027, saving model to best_convlstm_model.h5\n"
     ]
    },
    {
     "name": "stderr",
     "output_type": "stream",
     "text": [
      "WARNING:absl:You are saving your model as an HDF5 file via `model.save()` or `keras.saving.save_model(model)`. This file format is considered legacy. We recommend using instead the native Keras format, e.g. `model.save('my_model.keras')` or `keras.saving.save_model(model, 'my_model.keras')`. \n"
     ]
    },
    {
     "name": "stdout",
     "output_type": "stream",
     "text": [
      "\u001b[1m29/29\u001b[0m \u001b[32m━━━━━━━━━━━━━━━━━━━━\u001b[0m\u001b[37m\u001b[0m \u001b[1m41s\u001b[0m 1s/step - loss: 5.5280e-04 - mae: 0.0173 - val_loss: 2.6604e-04 - val_mae: 0.0127\n",
      "Epoch 28/50\n",
      "\u001b[1m29/29\u001b[0m \u001b[32m━━━━━━━━━━━━━━━━━━━━\u001b[0m\u001b[37m\u001b[0m \u001b[1m0s\u001b[0m 1s/step - loss: 4.1150e-04 - mae: 0.0154\n",
      "Epoch 28: val_loss did not improve from 0.00027\n",
      "\u001b[1m29/29\u001b[0m \u001b[32m━━━━━━━━━━━━━━━━━━━━\u001b[0m\u001b[37m\u001b[0m \u001b[1m43s\u001b[0m 1s/step - loss: 4.1180e-04 - mae: 0.0154 - val_loss: 4.5885e-04 - val_mae: 0.0170\n",
      "Epoch 29/50\n",
      "\u001b[1m29/29\u001b[0m \u001b[32m━━━━━━━━━━━━━━━━━━━━\u001b[0m\u001b[37m\u001b[0m \u001b[1m0s\u001b[0m 1s/step - loss: 3.9128e-04 - mae: 0.0146\n",
      "Epoch 29: val_loss improved from 0.00027 to 0.00025, saving model to best_convlstm_model.h5\n"
     ]
    },
    {
     "name": "stderr",
     "output_type": "stream",
     "text": [
      "WARNING:absl:You are saving your model as an HDF5 file via `model.save()` or `keras.saving.save_model(model)`. This file format is considered legacy. We recommend using instead the native Keras format, e.g. `model.save('my_model.keras')` or `keras.saving.save_model(model, 'my_model.keras')`. \n"
     ]
    },
    {
     "name": "stdout",
     "output_type": "stream",
     "text": [
      "\u001b[1m29/29\u001b[0m \u001b[32m━━━━━━━━━━━━━━━━━━━━\u001b[0m\u001b[37m\u001b[0m \u001b[1m42s\u001b[0m 1s/step - loss: 3.9066e-04 - mae: 0.0146 - val_loss: 2.5118e-04 - val_mae: 0.0122\n",
      "Epoch 30/50\n",
      "\u001b[1m29/29\u001b[0m \u001b[32m━━━━━━━━━━━━━━━━━━━━\u001b[0m\u001b[37m\u001b[0m \u001b[1m0s\u001b[0m 1s/step - loss: 3.5434e-04 - mae: 0.0140\n",
      "Epoch 30: val_loss did not improve from 0.00025\n",
      "\u001b[1m29/29\u001b[0m \u001b[32m━━━━━━━━━━━━━━━━━━━━\u001b[0m\u001b[37m\u001b[0m \u001b[1m40s\u001b[0m 1s/step - loss: 3.5494e-04 - mae: 0.0140 - val_loss: 3.3217e-04 - val_mae: 0.0144\n",
      "Epoch 31/50\n",
      "\u001b[1m29/29\u001b[0m \u001b[32m━━━━━━━━━━━━━━━━━━━━\u001b[0m\u001b[37m\u001b[0m \u001b[1m0s\u001b[0m 1s/step - loss: 8.2923e-04 - mae: 0.0183\n",
      "Epoch 31: val_loss did not improve from 0.00025\n",
      "\u001b[1m29/29\u001b[0m \u001b[32m━━━━━━━━━━━━━━━━━━━━\u001b[0m\u001b[37m\u001b[0m \u001b[1m45s\u001b[0m 2s/step - loss: 8.3781e-04 - mae: 0.0184 - val_loss: 4.9624e-04 - val_mae: 0.0163\n",
      "Epoch 32/50\n",
      "\u001b[1m29/29\u001b[0m \u001b[32m━━━━━━━━━━━━━━━━━━━━\u001b[0m\u001b[37m\u001b[0m \u001b[1m0s\u001b[0m 1s/step - loss: 4.9882e-04 - mae: 0.0164\n",
      "Epoch 32: val_loss did not improve from 0.00025\n",
      "\u001b[1m29/29\u001b[0m \u001b[32m━━━━━━━━━━━━━━━━━━━━\u001b[0m\u001b[37m\u001b[0m \u001b[1m43s\u001b[0m 1s/step - loss: 4.9677e-04 - mae: 0.0164 - val_loss: 2.6732e-04 - val_mae: 0.0129\n",
      "Epoch 33/50\n",
      "\u001b[1m29/29\u001b[0m \u001b[32m━━━━━━━━━━━━━━━━━━━━\u001b[0m\u001b[37m\u001b[0m \u001b[1m0s\u001b[0m 1s/step - loss: 4.0205e-04 - mae: 0.0150\n",
      "Epoch 33: val_loss did not improve from 0.00025\n",
      "\u001b[1m29/29\u001b[0m \u001b[32m━━━━━━━━━━━━━━━━━━━━\u001b[0m\u001b[37m\u001b[0m \u001b[1m41s\u001b[0m 1s/step - loss: 4.0185e-04 - mae: 0.0150 - val_loss: 2.8932e-04 - val_mae: 0.0135\n",
      "Epoch 34/50\n",
      "\u001b[1m29/29\u001b[0m \u001b[32m━━━━━━━━━━━━━━━━━━━━\u001b[0m\u001b[37m\u001b[0m \u001b[1m0s\u001b[0m 1s/step - loss: 2.7217e-04 - mae: 0.0122\n",
      "Epoch 34: val_loss did not improve from 0.00025\n",
      "\u001b[1m29/29\u001b[0m \u001b[32m━━━━━━━━━━━━━━━━━━━━\u001b[0m\u001b[37m\u001b[0m \u001b[1m41s\u001b[0m 1s/step - loss: 2.7216e-04 - mae: 0.0122 - val_loss: 2.9901e-04 - val_mae: 0.0142\n",
      "Epoch 35/50\n",
      "\u001b[1m29/29\u001b[0m \u001b[32m━━━━━━━━━━━━━━━━━━━━\u001b[0m\u001b[37m\u001b[0m \u001b[1m0s\u001b[0m 1s/step - loss: 2.5800e-04 - mae: 0.0119\n",
      "Epoch 35: val_loss improved from 0.00025 to 0.00024, saving model to best_convlstm_model.h5\n"
     ]
    },
    {
     "name": "stderr",
     "output_type": "stream",
     "text": [
      "WARNING:absl:You are saving your model as an HDF5 file via `model.save()` or `keras.saving.save_model(model)`. This file format is considered legacy. We recommend using instead the native Keras format, e.g. `model.save('my_model.keras')` or `keras.saving.save_model(model, 'my_model.keras')`. \n"
     ]
    },
    {
     "name": "stdout",
     "output_type": "stream",
     "text": [
      "\u001b[1m29/29\u001b[0m \u001b[32m━━━━━━━━━━━━━━━━━━━━\u001b[0m\u001b[37m\u001b[0m \u001b[1m41s\u001b[0m 1s/step - loss: 2.5966e-04 - mae: 0.0119 - val_loss: 2.3899e-04 - val_mae: 0.0123\n",
      "Epoch 36/50\n",
      "\u001b[1m29/29\u001b[0m \u001b[32m━━━━━━━━━━━━━━━━━━━━\u001b[0m\u001b[37m\u001b[0m \u001b[1m0s\u001b[0m 1s/step - loss: 2.8792e-04 - mae: 0.0126\n",
      "Epoch 36: val_loss improved from 0.00024 to 0.00023, saving model to best_convlstm_model.h5\n"
     ]
    },
    {
     "name": "stderr",
     "output_type": "stream",
     "text": [
      "WARNING:absl:You are saving your model as an HDF5 file via `model.save()` or `keras.saving.save_model(model)`. This file format is considered legacy. We recommend using instead the native Keras format, e.g. `model.save('my_model.keras')` or `keras.saving.save_model(model, 'my_model.keras')`. \n"
     ]
    },
    {
     "name": "stdout",
     "output_type": "stream",
     "text": [
      "\u001b[1m29/29\u001b[0m \u001b[32m━━━━━━━━━━━━━━━━━━━━\u001b[0m\u001b[37m\u001b[0m \u001b[1m41s\u001b[0m 1s/step - loss: 2.8702e-04 - mae: 0.0126 - val_loss: 2.3007e-04 - val_mae: 0.0118\n",
      "Epoch 37/50\n",
      "\u001b[1m29/29\u001b[0m \u001b[32m━━━━━━━━━━━━━━━━━━━━\u001b[0m\u001b[37m\u001b[0m \u001b[1m0s\u001b[0m 1s/step - loss: 2.7252e-04 - mae: 0.0118\n",
      "Epoch 37: val_loss improved from 0.00023 to 0.00022, saving model to best_convlstm_model.h5\n"
     ]
    },
    {
     "name": "stderr",
     "output_type": "stream",
     "text": [
      "WARNING:absl:You are saving your model as an HDF5 file via `model.save()` or `keras.saving.save_model(model)`. This file format is considered legacy. We recommend using instead the native Keras format, e.g. `model.save('my_model.keras')` or `keras.saving.save_model(model, 'my_model.keras')`. \n"
     ]
    },
    {
     "name": "stdout",
     "output_type": "stream",
     "text": [
      "\u001b[1m29/29\u001b[0m \u001b[32m━━━━━━━━━━━━━━━━━━━━\u001b[0m\u001b[37m\u001b[0m \u001b[1m42s\u001b[0m 1s/step - loss: 2.7355e-04 - mae: 0.0118 - val_loss: 2.2129e-04 - val_mae: 0.0121\n",
      "Epoch 38/50\n",
      "\u001b[1m29/29\u001b[0m \u001b[32m━━━━━━━━━━━━━━━━━━━━\u001b[0m\u001b[37m\u001b[0m \u001b[1m0s\u001b[0m 1s/step - loss: 2.3709e-04 - mae: 0.0113\n",
      "Epoch 38: val_loss improved from 0.00022 to 0.00021, saving model to best_convlstm_model.h5\n"
     ]
    },
    {
     "name": "stderr",
     "output_type": "stream",
     "text": [
      "WARNING:absl:You are saving your model as an HDF5 file via `model.save()` or `keras.saving.save_model(model)`. This file format is considered legacy. We recommend using instead the native Keras format, e.g. `model.save('my_model.keras')` or `keras.saving.save_model(model, 'my_model.keras')`. \n"
     ]
    },
    {
     "name": "stdout",
     "output_type": "stream",
     "text": [
      "\u001b[1m29/29\u001b[0m \u001b[32m━━━━━━━━━━━━━━━━━━━━\u001b[0m\u001b[37m\u001b[0m \u001b[1m45s\u001b[0m 2s/step - loss: 2.3863e-04 - mae: 0.0114 - val_loss: 2.1281e-04 - val_mae: 0.0112\n",
      "Epoch 39/50\n",
      "\u001b[1m29/29\u001b[0m \u001b[32m━━━━━━━━━━━━━━━━━━━━\u001b[0m\u001b[37m\u001b[0m \u001b[1m0s\u001b[0m 1s/step - loss: 2.0476e-04 - mae: 0.0106\n",
      "Epoch 39: val_loss improved from 0.00021 to 0.00019, saving model to best_convlstm_model.h5\n"
     ]
    },
    {
     "name": "stderr",
     "output_type": "stream",
     "text": [
      "WARNING:absl:You are saving your model as an HDF5 file via `model.save()` or `keras.saving.save_model(model)`. This file format is considered legacy. We recommend using instead the native Keras format, e.g. `model.save('my_model.keras')` or `keras.saving.save_model(model, 'my_model.keras')`. \n"
     ]
    },
    {
     "name": "stdout",
     "output_type": "stream",
     "text": [
      "\u001b[1m29/29\u001b[0m \u001b[32m━━━━━━━━━━━━━━━━━━━━\u001b[0m\u001b[37m\u001b[0m \u001b[1m43s\u001b[0m 1s/step - loss: 2.0465e-04 - mae: 0.0106 - val_loss: 1.8536e-04 - val_mae: 0.0104\n",
      "Epoch 40/50\n",
      "\u001b[1m29/29\u001b[0m \u001b[32m━━━━━━━━━━━━━━━━━━━━\u001b[0m\u001b[37m\u001b[0m \u001b[1m0s\u001b[0m 1s/step - loss: 4.6456e-04 - mae: 0.0140\n",
      "Epoch 40: val_loss did not improve from 0.00019\n",
      "\u001b[1m29/29\u001b[0m \u001b[32m━━━━━━━━━━━━━━━━━━━━\u001b[0m\u001b[37m\u001b[0m \u001b[1m40s\u001b[0m 1s/step - loss: 4.6591e-04 - mae: 0.0141 - val_loss: 2.6547e-04 - val_mae: 0.0121\n",
      "Epoch 41/50\n",
      "\u001b[1m29/29\u001b[0m \u001b[32m━━━━━━━━━━━━━━━━━━━━\u001b[0m\u001b[37m\u001b[0m \u001b[1m0s\u001b[0m 1s/step - loss: 3.1961e-04 - mae: 0.0133\n",
      "Epoch 41: val_loss improved from 0.00019 to 0.00013, saving model to best_convlstm_model.h5\n"
     ]
    },
    {
     "name": "stderr",
     "output_type": "stream",
     "text": [
      "WARNING:absl:You are saving your model as an HDF5 file via `model.save()` or `keras.saving.save_model(model)`. This file format is considered legacy. We recommend using instead the native Keras format, e.g. `model.save('my_model.keras')` or `keras.saving.save_model(model, 'my_model.keras')`. \n"
     ]
    },
    {
     "name": "stdout",
     "output_type": "stream",
     "text": [
      "\u001b[1m29/29\u001b[0m \u001b[32m━━━━━━━━━━━━━━━━━━━━\u001b[0m\u001b[37m\u001b[0m \u001b[1m42s\u001b[0m 1s/step - loss: 3.1869e-04 - mae: 0.0133 - val_loss: 1.3498e-04 - val_mae: 0.0090\n",
      "Epoch 42/50\n",
      "\u001b[1m29/29\u001b[0m \u001b[32m━━━━━━━━━━━━━━━━━━━━\u001b[0m\u001b[37m\u001b[0m \u001b[1m0s\u001b[0m 1s/step - loss: 2.1689e-04 - mae: 0.0109\n",
      "Epoch 42: val_loss improved from 0.00013 to 0.00012, saving model to best_convlstm_model.h5\n"
     ]
    },
    {
     "name": "stderr",
     "output_type": "stream",
     "text": [
      "WARNING:absl:You are saving your model as an HDF5 file via `model.save()` or `keras.saving.save_model(model)`. This file format is considered legacy. We recommend using instead the native Keras format, e.g. `model.save('my_model.keras')` or `keras.saving.save_model(model, 'my_model.keras')`. \n"
     ]
    },
    {
     "name": "stdout",
     "output_type": "stream",
     "text": [
      "\u001b[1m29/29\u001b[0m \u001b[32m━━━━━━━━━━━━━━━━━━━━\u001b[0m\u001b[37m\u001b[0m \u001b[1m42s\u001b[0m 1s/step - loss: 2.1905e-04 - mae: 0.0109 - val_loss: 1.1712e-04 - val_mae: 0.0083\n",
      "Epoch 43/50\n",
      "\u001b[1m29/29\u001b[0m \u001b[32m━━━━━━━━━━━━━━━━━━━━\u001b[0m\u001b[37m\u001b[0m \u001b[1m0s\u001b[0m 1s/step - loss: 2.2993e-04 - mae: 0.0114\n",
      "Epoch 43: val_loss did not improve from 0.00012\n",
      "\u001b[1m29/29\u001b[0m \u001b[32m━━━━━━━━━━━━━━━━━━━━\u001b[0m\u001b[37m\u001b[0m \u001b[1m43s\u001b[0m 1s/step - loss: 2.3000e-04 - mae: 0.0114 - val_loss: 2.8408e-04 - val_mae: 0.0115\n",
      "Epoch 44/50\n",
      "\u001b[1m29/29\u001b[0m \u001b[32m━━━━━━━━━━━━━━━━━━━━\u001b[0m\u001b[37m\u001b[0m \u001b[1m0s\u001b[0m 1s/step - loss: 2.1363e-04 - mae: 0.0106\n",
      "Epoch 44: val_loss did not improve from 0.00012\n",
      "\u001b[1m29/29\u001b[0m \u001b[32m━━━━━━━━━━━━━━━━━━━━\u001b[0m\u001b[37m\u001b[0m \u001b[1m42s\u001b[0m 1s/step - loss: 2.1351e-04 - mae: 0.0106 - val_loss: 1.2850e-04 - val_mae: 0.0087\n",
      "Epoch 45/50\n",
      "\u001b[1m29/29\u001b[0m \u001b[32m━━━━━━━━━━━━━━━━━━━━\u001b[0m\u001b[37m\u001b[0m \u001b[1m0s\u001b[0m 1s/step - loss: 7.9971e-04 - mae: 0.0172\n",
      "Epoch 45: val_loss did not improve from 0.00012\n",
      "\u001b[1m29/29\u001b[0m \u001b[32m━━━━━━━━━━━━━━━━━━━━\u001b[0m\u001b[37m\u001b[0m \u001b[1m43s\u001b[0m 2s/step - loss: 7.9168e-04 - mae: 0.0171 - val_loss: 2.1240e-04 - val_mae: 0.0116\n",
      "Epoch 46/50\n",
      "\u001b[1m29/29\u001b[0m \u001b[32m━━━━━━━━━━━━━━━━━━━━\u001b[0m\u001b[37m\u001b[0m \u001b[1m0s\u001b[0m 1s/step - loss: 3.3210e-04 - mae: 0.0126\n",
      "Epoch 46: val_loss did not improve from 0.00012\n",
      "\u001b[1m29/29\u001b[0m \u001b[32m━━━━━━━━━━━━━━━━━━━━\u001b[0m\u001b[37m\u001b[0m \u001b[1m43s\u001b[0m 1s/step - loss: 3.3240e-04 - mae: 0.0126 - val_loss: 5.8449e-04 - val_mae: 0.0192\n",
      "Epoch 47/50\n",
      "\u001b[1m29/29\u001b[0m \u001b[32m━━━━━━━━━━━━━━━━━━━━\u001b[0m\u001b[37m\u001b[0m \u001b[1m0s\u001b[0m 1s/step - loss: 2.2007e-04 - mae: 0.0107\n",
      "Epoch 47: val_loss did not improve from 0.00012\n",
      "\u001b[1m29/29\u001b[0m \u001b[32m━━━━━━━━━━━━━━━━━━━━\u001b[0m\u001b[37m\u001b[0m \u001b[1m46s\u001b[0m 2s/step - loss: 2.2009e-04 - mae: 0.0107 - val_loss: 3.2951e-04 - val_mae: 0.0157\n",
      "Epoch 48/50\n",
      "\u001b[1m29/29\u001b[0m \u001b[32m━━━━━━━━━━━━━━━━━━━━\u001b[0m\u001b[37m\u001b[0m \u001b[1m0s\u001b[0m 1s/step - loss: 2.2147e-04 - mae: 0.0107\n",
      "Epoch 48: val_loss did not improve from 0.00012\n",
      "\u001b[1m29/29\u001b[0m \u001b[32m━━━━━━━━━━━━━━━━━━━━\u001b[0m\u001b[37m\u001b[0m \u001b[1m43s\u001b[0m 1s/step - loss: 2.2194e-04 - mae: 0.0108 - val_loss: 5.9380e-04 - val_mae: 0.0177\n",
      "Epoch 49/50\n",
      "\u001b[1m29/29\u001b[0m \u001b[32m━━━━━━━━━━━━━━━━━━━━\u001b[0m\u001b[37m\u001b[0m \u001b[1m0s\u001b[0m 1s/step - loss: 2.0390e-04 - mae: 0.0099\n",
      "Epoch 49: val_loss did not improve from 0.00012\n",
      "\u001b[1m29/29\u001b[0m \u001b[32m━━━━━━━━━━━━━━━━━━━━\u001b[0m\u001b[37m\u001b[0m \u001b[1m42s\u001b[0m 1s/step - loss: 2.0360e-04 - mae: 0.0099 - val_loss: 2.4553e-04 - val_mae: 0.0125\n",
      "Epoch 50/50\n",
      "\u001b[1m29/29\u001b[0m \u001b[32m━━━━━━━━━━━━━━━━━━━━\u001b[0m\u001b[37m\u001b[0m \u001b[1m0s\u001b[0m 1s/step - loss: 1.5806e-04 - mae: 0.0092\n",
      "Epoch 50: val_loss did not improve from 0.00012\n",
      "\u001b[1m29/29\u001b[0m \u001b[32m━━━━━━━━━━━━━━━━━━━━\u001b[0m\u001b[37m\u001b[0m \u001b[1m42s\u001b[0m 1s/step - loss: 1.5896e-04 - mae: 0.0093 - val_loss: 1.8398e-04 - val_mae: 0.0109\n",
      "\n",
      "Model training complete.\n",
      "\n",
      "Evaluating model on the test set...\n",
      "\u001b[1m3/3\u001b[0m \u001b[32m━━━━━━━━━━━━━━━━━━━━\u001b[0m\u001b[37m\u001b[0m \u001b[1m3s\u001b[0m 843ms/step - loss: 4.8829e-04 - mae: 0.0152\n",
      "Test Loss (MSE): 0.0006\n",
      "Test MAE: 0.0161\n"
     ]
    }
   ],
   "source": [
    "import tensorflow as tf\n",
    "from keras.models import Sequential\n",
    "from keras.layers import ConvLSTM2D, BatchNormalization, Conv3D, Conv2D, Lambda\n",
    "from keras.optimizers import Adam\n",
    "from keras.callbacks import EarlyStopping, ModelCheckpoint\n",
    "\n",
    "# Ensure TensorFlow is using a GPU if available\n",
    "print(\"Num GPUs Available: \", len(tf.config.experimental.list_physical_devices('GPU')))\n",
    "if len(tf.config.experimental.list_physical_devices('GPU')) > 0:\n",
    "    print(\"Using GPU for training.\")\n",
    "else:\n",
    "    print(\"No GPU found. Training on CPU.\")\n",
    "\n",
    "# --- Define Model Parameters based on your data ---\n",
    "# These values should come from your previous data preparation steps\n",
    "# For demonstration purposes, I'll use placeholders if not defined globally.\n",
    "# In a continuous script, these would already be in scope.\n",
    "\n",
    "# Example values (replace with your actual data shapes from previous steps)\n",
    "# from the previous notebook section\n",
    "# X_train_normalized shape: (num_train_samples, n_steps_in, num_lat, num_lon, num_predictor_features)\n",
    "# y_train_normalized shape: (num_train_samples, n_steps_out, num_lat, num_lon)\n",
    "\n",
    "# Assume these are available from the previous run:\n",
    "# X_train_normalized, y_train_normalized, X_test_normalized, y_test_normalized\n",
    "\n",
    "# Infer dimensions from your normalized data\n",
    "n_samples_train, n_steps_in, num_lat, num_lon, num_channels = X_train_normalized.shape\n",
    "_, n_steps_out, _, _ = y_train_normalized.shape # Assuming y_train_normalized has 4 dimensions\n",
    "\n",
    "print(f\"\\nModel Input Parameters:\")\n",
    "print(f\"  n_steps_in (sequence length): {n_steps_in}\")\n",
    "print(f\"  num_lat (grid rows): {num_lat}\")\n",
    "print(f\"  num_lon (grid columns): {num_lon}\")\n",
    "print(f\"  num_channels (input features): {num_channels}\")\n",
    "print(f\"  n_steps_out (prediction horizon): {n_steps_out}\")\n",
    "\n",
    "# --- Adjust y_train_normalized/y_test_normalized if n_steps_out is 1 ---\n",
    "# Keras ConvLSTM2D output can be a sequence or just the last step.\n",
    "# If n_steps_out is 1, it's common to predict a single frame.\n",
    "# The target `y` should match the model's output shape.\n",
    "if n_steps_out == 1:\n",
    "    # Squeeze the n_steps_out dimension from y if it's 1, as the model's Conv3D output will be 3D.\n",
    "    # From (samples, 1, lat, lon) to (samples, lat, lon)\n",
    "    y_train_target = y_train_normalized.squeeze(axis=1)\n",
    "    y_test_target = y_test_normalized.squeeze(axis=1)\n",
    "    print(f\"Target 'y' adjusted from {y_train_normalized.shape} to {y_train_target.shape} for n_steps_out=1.\")\n",
    "else:\n",
    "    y_train_target = y_train_normalized\n",
    "    y_test_target = y_test_normalized\n",
    "    print(f\"Target 'y' shape remains {y_train_target.shape} as n_steps_out > 1.\")\n",
    "\n",
    "# --- Build the ConvLSTM Model ---\n",
    "\n",
    "model = Sequential()\n",
    "\n",
    "model.add(ConvLSTM2D(filters=64, kernel_size=(5, 5),\n",
    "                     activation='relu',\n",
    "                     padding='same',\n",
    "                     return_sequences=True,\n",
    "                     input_shape=(n_steps_in, num_lat, num_lon, num_channels)))\n",
    "model.add(BatchNormalization())\n",
    "\n",
    "model.add(ConvLSTM2D(filters=64, kernel_size=(3, 3),\n",
    "                     activation='relu',\n",
    "                     padding='same',\n",
    "                     return_sequences=False))\n",
    "model.add(BatchNormalization())\n",
    "\n",
    "model.add(Conv2D(filters=1, kernel_size=(1, 1), activation='linear', padding='same'))\n",
    "\n",
    "if n_steps_out == 1:\n",
    "    model.add(Lambda(lambda x: tf.squeeze(x, axis=-1)))\n",
    "\n",
    "# --- Compile the Model ---\n",
    "optimizer = Adam(learning_rate=0.001)\n",
    "model.compile(optimizer=optimizer, loss='mse', metrics=['mae'])\n",
    "\n",
    "model.summary()\n",
    "\n",
    "# --- Define Callbacks for Training ---\n",
    "early_stopping = EarlyStopping(monitor='val_loss', patience=10, restore_best_weights=True)\n",
    "\n",
    "model_checkpoint = ModelCheckpoint('best_convlstm_model.h5',\n",
    "                                   monitor='val_loss',\n",
    "                                   save_best_only=True,\n",
    "                                   mode='min',\n",
    "                                   verbose=1)\n",
    "\n",
    "# --- Train the Model ---\n",
    "print(\"\\nStarting model training...\")\n",
    "history = model.fit(X_train_normalized, y_train_target,\n",
    "                    epochs=50,\n",
    "                    batch_size=8,\n",
    "                    validation_split=0.2,\n",
    "                    callbacks=[early_stopping, model_checkpoint])\n",
    "\n",
    "print(\"\\nModel training complete.\")\n",
    "\n",
    "# --- Evaluate the Model on the Test Set ---\n",
    "print(\"\\nEvaluating model on the test set...\")\n",
    "test_loss, test_mae = model.evaluate(X_test_normalized, y_test_target, verbose=1)\n",
    "print(f\"Test Loss (MSE): {test_loss:.4f}\")\n",
    "print(f\"Test MAE: {test_mae:.4f}\")\n",
    "\n",
    "# You can now use the trained `model` to make predictions:\n",
    "# predictions_normalized = model.predict(X_test_normalized)\n",
    "# Then inverse transform `predictions_normalized` using `scaler_y` to get original precipitation values.\n"
   ]
  },
  {
   "cell_type": "markdown",
   "metadata": {},
   "source": [
    "# Prediction"
   ]
  },
  {
   "cell_type": "markdown",
   "metadata": {},
   "source": [
    "## Redefining the model"
   ]
  },
  {
   "cell_type": "code",
   "execution_count": 19,
   "metadata": {},
   "outputs": [
    {
     "name": "stdout",
     "output_type": "stream",
     "text": [
      "Model weights loaded successfully!\n"
     ]
    },
    {
     "name": "stderr",
     "output_type": "stream",
     "text": [
      "/Users/ahmed.shaikh/miniforge3/envs/srsi/lib/python3.9/site-packages/keras/src/layers/rnn/rnn.py:199: UserWarning: Do not pass an `input_shape`/`input_dim` argument to a layer. When using Sequential models, prefer using an `Input(shape)` object as the first layer in the model instead.\n",
      "  super().__init__(**kwargs)\n"
     ]
    },
    {
     "data": {
      "text/html": [
       "<pre style=\"white-space:pre;overflow-x:auto;line-height:normal;font-family:Menlo,'DejaVu Sans Mono',consolas,'Courier New',monospace\"><span style=\"font-weight: bold\">Model: \"sequential\"</span>\n",
       "</pre>\n"
      ],
      "text/plain": [
       "\u001b[1mModel: \"sequential\"\u001b[0m\n"
      ]
     },
     "metadata": {},
     "output_type": "display_data"
    },
    {
     "data": {
      "text/html": [
       "<pre style=\"white-space:pre;overflow-x:auto;line-height:normal;font-family:Menlo,'DejaVu Sans Mono',consolas,'Courier New',monospace\">┏━━━━━━━━━━━━━━━━━━━━━━━━━━━━━━━━━┳━━━━━━━━━━━━━━━━━━━━━━━━┳━━━━━━━━━━━━━━━┓\n",
       "┃<span style=\"font-weight: bold\"> Layer (type)                    </span>┃<span style=\"font-weight: bold\"> Output Shape           </span>┃<span style=\"font-weight: bold\">       Param # </span>┃\n",
       "┡━━━━━━━━━━━━━━━━━━━━━━━━━━━━━━━━━╇━━━━━━━━━━━━━━━━━━━━━━━━╇━━━━━━━━━━━━━━━┩\n",
       "│ conv_lstm2d_6 (<span style=\"color: #0087ff; text-decoration-color: #0087ff\">ConvLSTM2D</span>)      │ (<span style=\"color: #00d7ff; text-decoration-color: #00d7ff\">None</span>, <span style=\"color: #00af00; text-decoration-color: #00af00\">5</span>, <span style=\"color: #00af00; text-decoration-color: #00af00\">41</span>, <span style=\"color: #00af00; text-decoration-color: #00af00\">61</span>, <span style=\"color: #00af00; text-decoration-color: #00af00\">64</span>)  │       <span style=\"color: #00af00; text-decoration-color: #00af00\">461,056</span> │\n",
       "├─────────────────────────────────┼────────────────────────┼───────────────┤\n",
       "│ batch_normalization_6           │ (<span style=\"color: #00d7ff; text-decoration-color: #00d7ff\">None</span>, <span style=\"color: #00af00; text-decoration-color: #00af00\">5</span>, <span style=\"color: #00af00; text-decoration-color: #00af00\">41</span>, <span style=\"color: #00af00; text-decoration-color: #00af00\">61</span>, <span style=\"color: #00af00; text-decoration-color: #00af00\">64</span>)  │           <span style=\"color: #00af00; text-decoration-color: #00af00\">256</span> │\n",
       "│ (<span style=\"color: #0087ff; text-decoration-color: #0087ff\">BatchNormalization</span>)            │                        │               │\n",
       "├─────────────────────────────────┼────────────────────────┼───────────────┤\n",
       "│ conv_lstm2d_7 (<span style=\"color: #0087ff; text-decoration-color: #0087ff\">ConvLSTM2D</span>)      │ (<span style=\"color: #00d7ff; text-decoration-color: #00d7ff\">None</span>, <span style=\"color: #00af00; text-decoration-color: #00af00\">41</span>, <span style=\"color: #00af00; text-decoration-color: #00af00\">61</span>, <span style=\"color: #00af00; text-decoration-color: #00af00\">64</span>)     │       <span style=\"color: #00af00; text-decoration-color: #00af00\">295,168</span> │\n",
       "├─────────────────────────────────┼────────────────────────┼───────────────┤\n",
       "│ batch_normalization_7           │ (<span style=\"color: #00d7ff; text-decoration-color: #00d7ff\">None</span>, <span style=\"color: #00af00; text-decoration-color: #00af00\">41</span>, <span style=\"color: #00af00; text-decoration-color: #00af00\">61</span>, <span style=\"color: #00af00; text-decoration-color: #00af00\">64</span>)     │           <span style=\"color: #00af00; text-decoration-color: #00af00\">256</span> │\n",
       "│ (<span style=\"color: #0087ff; text-decoration-color: #0087ff\">BatchNormalization</span>)            │                        │               │\n",
       "├─────────────────────────────────┼────────────────────────┼───────────────┤\n",
       "│ conv2d_2 (<span style=\"color: #0087ff; text-decoration-color: #0087ff\">Conv2D</span>)               │ (<span style=\"color: #00d7ff; text-decoration-color: #00d7ff\">None</span>, <span style=\"color: #00af00; text-decoration-color: #00af00\">41</span>, <span style=\"color: #00af00; text-decoration-color: #00af00\">61</span>, <span style=\"color: #00af00; text-decoration-color: #00af00\">1</span>)      │            <span style=\"color: #00af00; text-decoration-color: #00af00\">65</span> │\n",
       "├─────────────────────────────────┼────────────────────────┼───────────────┤\n",
       "│ lambda_2 (<span style=\"color: #0087ff; text-decoration-color: #0087ff\">Lambda</span>)               │ (<span style=\"color: #00d7ff; text-decoration-color: #00d7ff\">None</span>, <span style=\"color: #00af00; text-decoration-color: #00af00\">41</span>, <span style=\"color: #00af00; text-decoration-color: #00af00\">61</span>)         │             <span style=\"color: #00af00; text-decoration-color: #00af00\">0</span> │\n",
       "└─────────────────────────────────┴────────────────────────┴───────────────┘\n",
       "</pre>\n"
      ],
      "text/plain": [
       "┏━━━━━━━━━━━━━━━━━━━━━━━━━━━━━━━━━┳━━━━━━━━━━━━━━━━━━━━━━━━┳━━━━━━━━━━━━━━━┓\n",
       "┃\u001b[1m \u001b[0m\u001b[1mLayer (type)                   \u001b[0m\u001b[1m \u001b[0m┃\u001b[1m \u001b[0m\u001b[1mOutput Shape          \u001b[0m\u001b[1m \u001b[0m┃\u001b[1m \u001b[0m\u001b[1m      Param #\u001b[0m\u001b[1m \u001b[0m┃\n",
       "┡━━━━━━━━━━━━━━━━━━━━━━━━━━━━━━━━━╇━━━━━━━━━━━━━━━━━━━━━━━━╇━━━━━━━━━━━━━━━┩\n",
       "│ conv_lstm2d_6 (\u001b[38;5;33mConvLSTM2D\u001b[0m)      │ (\u001b[38;5;45mNone\u001b[0m, \u001b[38;5;34m5\u001b[0m, \u001b[38;5;34m41\u001b[0m, \u001b[38;5;34m61\u001b[0m, \u001b[38;5;34m64\u001b[0m)  │       \u001b[38;5;34m461,056\u001b[0m │\n",
       "├─────────────────────────────────┼────────────────────────┼───────────────┤\n",
       "│ batch_normalization_6           │ (\u001b[38;5;45mNone\u001b[0m, \u001b[38;5;34m5\u001b[0m, \u001b[38;5;34m41\u001b[0m, \u001b[38;5;34m61\u001b[0m, \u001b[38;5;34m64\u001b[0m)  │           \u001b[38;5;34m256\u001b[0m │\n",
       "│ (\u001b[38;5;33mBatchNormalization\u001b[0m)            │                        │               │\n",
       "├─────────────────────────────────┼────────────────────────┼───────────────┤\n",
       "│ conv_lstm2d_7 (\u001b[38;5;33mConvLSTM2D\u001b[0m)      │ (\u001b[38;5;45mNone\u001b[0m, \u001b[38;5;34m41\u001b[0m, \u001b[38;5;34m61\u001b[0m, \u001b[38;5;34m64\u001b[0m)     │       \u001b[38;5;34m295,168\u001b[0m │\n",
       "├─────────────────────────────────┼────────────────────────┼───────────────┤\n",
       "│ batch_normalization_7           │ (\u001b[38;5;45mNone\u001b[0m, \u001b[38;5;34m41\u001b[0m, \u001b[38;5;34m61\u001b[0m, \u001b[38;5;34m64\u001b[0m)     │           \u001b[38;5;34m256\u001b[0m │\n",
       "│ (\u001b[38;5;33mBatchNormalization\u001b[0m)            │                        │               │\n",
       "├─────────────────────────────────┼────────────────────────┼───────────────┤\n",
       "│ conv2d_2 (\u001b[38;5;33mConv2D\u001b[0m)               │ (\u001b[38;5;45mNone\u001b[0m, \u001b[38;5;34m41\u001b[0m, \u001b[38;5;34m61\u001b[0m, \u001b[38;5;34m1\u001b[0m)      │            \u001b[38;5;34m65\u001b[0m │\n",
       "├─────────────────────────────────┼────────────────────────┼───────────────┤\n",
       "│ lambda_2 (\u001b[38;5;33mLambda\u001b[0m)               │ (\u001b[38;5;45mNone\u001b[0m, \u001b[38;5;34m41\u001b[0m, \u001b[38;5;34m61\u001b[0m)         │             \u001b[38;5;34m0\u001b[0m │\n",
       "└─────────────────────────────────┴────────────────────────┴───────────────┘\n"
      ]
     },
     "metadata": {},
     "output_type": "display_data"
    },
    {
     "data": {
      "text/html": [
       "<pre style=\"white-space:pre;overflow-x:auto;line-height:normal;font-family:Menlo,'DejaVu Sans Mono',consolas,'Courier New',monospace\"><span style=\"font-weight: bold\"> Total params: </span><span style=\"color: #00af00; text-decoration-color: #00af00\">756,801</span> (2.89 MB)\n",
       "</pre>\n"
      ],
      "text/plain": [
       "\u001b[1m Total params: \u001b[0m\u001b[38;5;34m756,801\u001b[0m (2.89 MB)\n"
      ]
     },
     "metadata": {},
     "output_type": "display_data"
    },
    {
     "data": {
      "text/html": [
       "<pre style=\"white-space:pre;overflow-x:auto;line-height:normal;font-family:Menlo,'DejaVu Sans Mono',consolas,'Courier New',monospace\"><span style=\"font-weight: bold\"> Trainable params: </span><span style=\"color: #00af00; text-decoration-color: #00af00\">756,545</span> (2.89 MB)\n",
       "</pre>\n"
      ],
      "text/plain": [
       "\u001b[1m Trainable params: \u001b[0m\u001b[38;5;34m756,545\u001b[0m (2.89 MB)\n"
      ]
     },
     "metadata": {},
     "output_type": "display_data"
    },
    {
     "data": {
      "text/html": [
       "<pre style=\"white-space:pre;overflow-x:auto;line-height:normal;font-family:Menlo,'DejaVu Sans Mono',consolas,'Courier New',monospace\"><span style=\"font-weight: bold\"> Non-trainable params: </span><span style=\"color: #00af00; text-decoration-color: #00af00\">256</span> (1.00 KB)\n",
       "</pre>\n"
      ],
      "text/plain": [
       "\u001b[1m Non-trainable params: \u001b[0m\u001b[38;5;34m256\u001b[0m (1.00 KB)\n"
      ]
     },
     "metadata": {},
     "output_type": "display_data"
    }
   ],
   "source": [
    "from tensorflow.keras.models import Sequential\n",
    "from tensorflow.keras.layers import ConvLSTM2D, BatchNormalization, Conv2D, Lambda\n",
    "import tensorflow.keras.backend as K # Import Keras backend for the Lambda layer\n",
    "\n",
    "# Parameters from your original training summary\n",
    "n_steps_in = 5\n",
    "num_lat = 41 # grid rows\n",
    "num_lon = 61 # grid columns\n",
    "num_channels = 8 # input features\n",
    "n_output_features = num_lat * num_lon # This parameter isn't directly used in the Dense layer anymore,\n",
    "                                     # but the output shape of the model will be (None, num_lat, num_lon)\n",
    "\n",
    "# Re-define your model architecture to exactly match the original summary\n",
    "model = Sequential([\n",
    "    # First ConvLSTM2D block\n",
    "    ConvLSTM2D(filters=64, kernel_size=(5, 5), activation='relu',\n",
    "               input_shape=(n_steps_in, num_lat, num_lon, num_channels), # Note: input_shape is (timesteps, rows, cols, channels)\n",
    "               padding='same', return_sequences=True, name='conv_lstm2d_6'),\n",
    "    BatchNormalization(name='batch_normalization_6'),\n",
    "\n",
    "    # Second ConvLSTM2D block (return_sequences=False to collapse time dimension)\n",
    "    ConvLSTM2D(filters=64, kernel_size=(3, 3), activation='relu',\n",
    "               padding='same', return_sequences=False, name='conv_lstm2d_7'),\n",
    "    BatchNormalization(name='batch_normalization_7'),\n",
    "\n",
    "    # Final Conv2D layer to output the 2D map with a single channel\n",
    "    Conv2D(filters=1, kernel_size=(1, 1), activation='linear', padding='same', name='conv2d_2'),\n",
    "\n",
    "    # Lambda layer to squeeze the last dimension (channel dimension)\n",
    "    Lambda(lambda x: K.squeeze(x, axis=-1), name='lambda_2')\n",
    "])\n",
    "\n",
    "# Compile the model\n",
    "model.compile(optimizer='adam', loss='mse')\n",
    "\n",
    "# Load the saved weights\n",
    "weights_path = 'best_convlstm_model.h5' # Make sure this path is correct\n",
    "try:\n",
    "    model.load_weights(weights_path)\n",
    "    print(\"Model weights loaded successfully!\")\n",
    "except Exception as e:\n",
    "    print(f\"Error loading weights: {e}\")\n",
    "    print(\"Please ensure the model architecture exactly matches the saved model and the path is correct.\")\n",
    "\n",
    "# You can now verify the loaded model's summary\n",
    "model.summary()\n"
   ]
  },
  {
   "cell_type": "code",
   "execution_count": 20,
   "metadata": {},
   "outputs": [
    {
     "name": "stdout",
     "output_type": "stream",
     "text": [
      "\u001b[1m3/3\u001b[0m \u001b[32m━━━━━━━━━━━━━━━━━━━━\u001b[0m\u001b[37m\u001b[0m \u001b[1m3s\u001b[0m 818ms/step\n"
     ]
    }
   ],
   "source": [
    "predictions_normalized = model.predict(X_test_normalized)"
   ]
  },
  {
   "cell_type": "code",
   "execution_count": 21,
   "metadata": {},
   "outputs": [],
   "source": [
    "num_samples, lat, lon = predictions_normalized.shape\n",
    "preds_reshaped = predictions_normalized.reshape(num_samples, lat * lon)\n",
    "\n",
    "# Apply the inverse transformation using np.expm1\n",
    "# No need for scaler_y.inverse_transform() anymore\n",
    "preds_inversed = np.expm1(preds_reshaped)\n",
    "\n",
    "# Reshape back to the original spatial dimensions\n",
    "preds_inversed = preds_inversed.reshape(num_samples, lat, lon)\n",
    "\n",
    "# Assuming 'tp' was initially in meters and converted to mm at some point\n",
    "# If your model's output already corresponds to millimeters after inverse_transform,\n",
    "# then remove the '* 1000' here.\n",
    "# Based on your previous context, 'tp' was in meters then multiplied by 1000\n",
    "# to be in mm, and you applied log1p to that mm value.\n",
    "# So, after expm1, it should already be in mm.\n",
    "\n",
    "# Ensure no negative rainfall values (physical constraint)\n",
    "pred_rainfall_mm = preds_inversed * 1000\n",
    "pred_rainfall_mm[pred_rainfall_mm < 0] = 0\n"
   ]
  },
  {
   "cell_type": "code",
   "execution_count": 23,
   "metadata": {},
   "outputs": [
    {
     "data": {
      "image/png": "[encoded data removed]",
      "text/plain": [
       "<Figure size 800x600 with 2 Axes>"
      ]
     },
     "metadata": {},
     "output_type": "display_data"
    }
   ],
   "source": [
    "import matplotlib.pyplot as plt\n",
    "import numpy as np\n",
    "\n",
    "# Select sample index to plot\n",
    "sample_idx = 32\n",
    "\n",
    "timestamp = all_times[sample_idx +n_steps_in -1]\n",
    "\n",
    "pred_to_plot = pred_rainfall_mm[sample_idx]  # shape (lat, lon)\n",
    "\n",
    "plt.figure(figsize=(8, 6))\n",
    "\n",
    "\n",
    "plt.imshow(pred_to_plot, origin='lower', cmap='Blues')\n",
    "plt.colorbar(label='Total precipitation (mm)')\n",
    "plt.title(f'Predicted Precipitation (Sample {sample_idx}, Time: {pd.to_datetime(timestamp).strftime(\"%Y-%m-%d %H:%M\")})')\n",
    "plt.xlabel('Longitude grid index')\n",
    "plt.ylabel('Latitude grid index')\n",
    "plt.show()\n"
   ]
  },
  {
   "cell_type": "code",
   "execution_count": 24,
   "metadata": {},
   "outputs": [
    {
     "data": {
      "image/png": "[encoded data removed]",
      "text/plain": [
       "<Figure size 1200x500 with 4 Axes>"
      ]
     },
     "metadata": {},
     "output_type": "display_data"
    },
    {
     "name": "stdout",
     "output_type": "stream",
     "text": [
      "Predictions Normalized - Min: -0.0785047858953476, Max: 0.11688606441020966\n",
      "Ground Truth Normalized - Min: 0.0, Max: 0.007253502524229091\n",
      "Predictions Inversed (meters) - Min: -0.07550236582756042, Max: 0.12399136275053024\n",
      "Ground Truth Inversed (meters) - Min: 0.0, Max: 0.007279872894287109\n"
     ]
    }
   ],
   "source": [
    "y_test_reshaped = y_test_normalized.reshape(y_test_normalized.shape[0], num_lat * num_lon)\n",
    "\n",
    "y_test_inversed = np.expm1(y_test_reshaped)\n",
    "y_test_inversed = y_test_inversed.reshape(y_test_normalized.shape[0], num_lat, num_lon)\n",
    "\n",
    "# NEW: Convert y_test_inversed to millimeters and handle negatives\n",
    "true_rainfall_mm = y_test_inversed * 1000\n",
    "true_rainfall_mm[true_rainfall_mm < 0] = 0\n",
    "\n",
    "\n",
    "import matplotlib.pyplot as plt\n",
    "\n",
    "if n_steps_out == 1:\n",
    "    pred_to_plot = pred_rainfall_mm[sample_idx]\n",
    "    true_to_plot = true_rainfall_mm[sample_idx]\n",
    "else:\n",
    "    pred_to_plot = pred_rainfall_mm[sample_idx, time_step]\n",
    "    true_to_plot = true_rainfall_mm[sample_idx, time_step] \n",
    "\n",
    "fig, axes = plt.subplots(1, 2, figsize=(12, 5))\n",
    "\n",
    "im1 = axes[0].imshow(true_to_plot, origin='lower', cmap='Blues')\n",
    "axes[0].set_title('Ground Truth')\n",
    "axes[0].axis('off')\n",
    "fig.colorbar(im1, ax=axes[0], fraction=0.046, pad=0.04)\n",
    "\n",
    "im2 = axes[1].imshow(pred_to_plot, origin='lower', cmap='Blues')\n",
    "axes[1].set_title(f'Prediction (Sample {sample_idx}, Time: {pd.to_datetime(timestamp).strftime(\"%Y-%m-%d %H:%M\")})')\n",
    "axes[1].axis('off')\n",
    "fig.colorbar(im2, ax=axes[1], fraction=0.046, pad=0.04)\n",
    "\n",
    "plt.suptitle(f'Precipitation comparison (sample {sample_idx}, step {time_step if n_steps_out > 1 else \"\"})')\n",
    "plt.show()\n",
    "\n",
    "# In the cell where predictions_normalized is available:\n",
    "print(f\"Predictions Normalized - Min: {predictions_normalized.min()}, Max: {predictions_normalized.max()}\")\n",
    "\n",
    "# In the cell where y_test_normalized is available:\n",
    "print(f\"Ground Truth Normalized - Min: {y_test_normalized.min()}, Max: {y_test_normalized.max()}\")\n",
    "\n",
    "# In the cell with pred_rainfall_mm (before the * 1000 line):\n",
    "print(f\"Predictions Inversed (meters) - Min: {preds_inversed.min()}, Max: {preds_inversed.max()}\")\n",
    "\n",
    "# In the cell with true_rainfall_mm (before the * 1000 line):\n",
    "print(f\"Ground Truth Inversed (meters) - Min: {y_test_inversed.min()}, Max: {y_test_inversed.max()}\")\n"
   ]
  },
  {
   "cell_type": "code",
   "execution_count": 25,
   "metadata": {},
   "outputs": [
    {
     "data": {
      "image/png": "[encoded data removed]",
      "text/plain": [
       "<Figure size 600x500 with 2 Axes>"
      ]
     },
     "metadata": {},
     "output_type": "display_data"
    }
   ],
   "source": [
    "error_map = pred_to_plot - true_to_plot\n",
    "\n",
    "timestamp = all_times[sample_idx + n_steps_in - 1]\n",
    "\n",
    "plt.figure(figsize=(6, 5))\n",
    "plt.imshow(error_map, origin='lower', cmap='bwr', vmin=-abs(error_map).max(), vmax=abs(error_map).max())\n",
    "plt.colorbar(label='Prediction error (pred - true)')\n",
    "plt.title(f'Prediction error (sample {sample_idx}, step {time_step if n_steps_out > 1 else \"\"})')\n",
    "plt.axis('off')\n",
    "plt.show()\n"
   ]
  },
  {
   "cell_type": "code",
   "execution_count": null,
   "metadata": {},
   "outputs": [],
   "source": []
  },
  {
   "cell_type": "code",
   "execution_count": null,
   "metadata": {},
   "outputs": [],
   "source": []
  },
  {
   "cell_type": "code",
   "execution_count": null,
   "metadata": {},
   "outputs": [],
   "source": []
  }
 ],
 "metadata": {
  "kernelspec": {
   "display_name": "Python 3 (ipykernel)",
   "language": "python",
   "name": "python3"
  },
  "language_info": {
   "codemirror_mode": {
    "name": "ipython",
    "version": 3
   },
   "file_extension": ".py",
   "mimetype": "text/x-python",
   "name": "python",
   "nbconvert_exporter": "python",
   "pygments_lexer": "ipython3",
   "version": "3.9.23"
  }
 },
 "nbformat": 4,
 "nbformat_minor": 4
}
